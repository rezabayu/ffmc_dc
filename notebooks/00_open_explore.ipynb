{
 "cells": [
  {
   "cell_type": "code",
   "execution_count": 2,
   "id": "502d92e8",
   "metadata": {},
   "outputs": [],
   "source": [
    "import pandas as pd\n",
    "from pathlib import Path"
   ]
  },
  {
   "cell_type": "code",
   "execution_count": 3,
   "id": "f1a5cb88",
   "metadata": {},
   "outputs": [],
   "source": [
    "RAW = Path(\"data/raw\")\n",
    "OUT = Path(\"data/interim\")\n",
    "OUT.mkdir(parents=True, exist_ok=True)"
   ]
  },
  {
   "cell_type": "code",
   "execution_count": 5,
   "id": "8309675f",
   "metadata": {},
   "outputs": [
    {
     "data": {
      "text/html": [
       "<div>\n",
       "<style scoped>\n",
       "    .dataframe tbody tr th:only-of-type {\n",
       "        vertical-align: middle;\n",
       "    }\n",
       "\n",
       "    .dataframe tbody tr th {\n",
       "        vertical-align: top;\n",
       "    }\n",
       "\n",
       "    .dataframe thead th {\n",
       "        text-align: right;\n",
       "    }\n",
       "</style>\n",
       "<table border=\"1\" class=\"dataframe\">\n",
       "  <thead>\n",
       "    <tr style=\"text-align: right;\">\n",
       "      <th></th>\n",
       "      <th>WMO ID</th>\n",
       "      <th>DATA TIMESTAMP</th>\n",
       "      <th>EVAPORATION 24HOURS MM EEE</th>\n",
       "      <th>RAINFALL 24H RRRR</th>\n",
       "      <th>TEMP DRYBULB C TTTTTT</th>\n",
       "      <th>WIND SPEED FF</th>\n",
       "      <th>RELATIVE HUMIDITY PC</th>\n",
       "      <th>PRESSURE QFF MB DERIVED</th>\n",
       "    </tr>\n",
       "  </thead>\n",
       "  <tbody>\n",
       "    <tr>\n",
       "      <th>0</th>\n",
       "      <td>96595</td>\n",
       "      <td>2015-01-01 00:00:00.0 +0:00</td>\n",
       "      <td>7.0</td>\n",
       "      <td>7.6</td>\n",
       "      <td>23.4</td>\n",
       "      <td>0.0</td>\n",
       "      <td>98.3</td>\n",
       "      <td>1012.0</td>\n",
       "    </tr>\n",
       "    <tr>\n",
       "      <th>1</th>\n",
       "      <td>96595</td>\n",
       "      <td>2015-01-01 01:00:00.0 +0:00</td>\n",
       "      <td>NaN</td>\n",
       "      <td>NaN</td>\n",
       "      <td>24.6</td>\n",
       "      <td>0.0</td>\n",
       "      <td>92.8</td>\n",
       "      <td>1012.2</td>\n",
       "    </tr>\n",
       "    <tr>\n",
       "      <th>2</th>\n",
       "      <td>96595</td>\n",
       "      <td>2015-01-01 02:00:00.0 +0:00</td>\n",
       "      <td>NaN</td>\n",
       "      <td>NaN</td>\n",
       "      <td>27.0</td>\n",
       "      <td>0.0</td>\n",
       "      <td>80.8</td>\n",
       "      <td>1012.0</td>\n",
       "    </tr>\n",
       "    <tr>\n",
       "      <th>3</th>\n",
       "      <td>96595</td>\n",
       "      <td>2015-01-01 03:00:00.0 +0:00</td>\n",
       "      <td>NaN</td>\n",
       "      <td>NaN</td>\n",
       "      <td>29.8</td>\n",
       "      <td>0.0</td>\n",
       "      <td>71.2</td>\n",
       "      <td>1011.0</td>\n",
       "    </tr>\n",
       "    <tr>\n",
       "      <th>4</th>\n",
       "      <td>96595</td>\n",
       "      <td>2015-01-01 04:00:00.0 +0:00</td>\n",
       "      <td>NaN</td>\n",
       "      <td>NaN</td>\n",
       "      <td>30.7</td>\n",
       "      <td>0.0</td>\n",
       "      <td>65.4</td>\n",
       "      <td>1011.0</td>\n",
       "    </tr>\n",
       "  </tbody>\n",
       "</table>\n",
       "</div>"
      ],
      "text/plain": [
       "   WMO ID               DATA TIMESTAMP  EVAPORATION 24HOURS MM EEE  \\\n",
       "0   96595  2015-01-01 00:00:00.0 +0:00                         7.0   \n",
       "1   96595  2015-01-01 01:00:00.0 +0:00                         NaN   \n",
       "2   96595  2015-01-01 02:00:00.0 +0:00                         NaN   \n",
       "3   96595  2015-01-01 03:00:00.0 +0:00                         NaN   \n",
       "4   96595  2015-01-01 04:00:00.0 +0:00                         NaN   \n",
       "\n",
       "   RAINFALL 24H RRRR  TEMP DRYBULB C TTTTTT  WIND SPEED FF  \\\n",
       "0                7.6                   23.4            0.0   \n",
       "1                NaN                   24.6            0.0   \n",
       "2                NaN                   27.0            0.0   \n",
       "3                NaN                   29.8            0.0   \n",
       "4                NaN                   30.7            0.0   \n",
       "\n",
       "   RELATIVE HUMIDITY PC  PRESSURE QFF MB DERIVED  \n",
       "0                  98.3                   1012.0  \n",
       "1                  92.8                   1012.2  \n",
       "2                  80.8                   1012.0  \n",
       "3                  71.2                   1011.0  \n",
       "4                  65.4                   1011.0  "
      ]
     },
     "execution_count": 5,
     "metadata": {},
     "output_type": "execute_result"
    }
   ],
   "source": [
    "data = pd.read_csv('/home/rzby/ffmc_dc/data/raw/export-ME48-2015-01-01-2024-01-01.csv', low_memory=False)\n",
    "data.head()"
   ]
  },
  {
   "cell_type": "code",
   "execution_count": 6,
   "id": "65ed078a",
   "metadata": {},
   "outputs": [
    {
     "data": {
      "text/plain": [
       "array([96595, 96645, 96651, 96653, 96655])"
      ]
     },
     "execution_count": 6,
     "metadata": {},
     "output_type": "execute_result"
    }
   ],
   "source": [
    "data['WMO ID'].unique()"
   ]
  },
  {
   "cell_type": "code",
   "execution_count": 7,
   "id": "54c28185",
   "metadata": {},
   "outputs": [],
   "source": [
    "data['WMO ID'] = data['WMO ID'].astype(str)"
   ]
  },
  {
   "cell_type": "code",
   "execution_count": null,
   "id": "c06edcba",
   "metadata": {},
   "outputs": [],
   "source": []
  }
 ],
 "metadata": {
  "kernelspec": {
   "display_name": "atmo-ann",
   "language": "python",
   "name": "python3"
  },
  "language_info": {
   "codemirror_mode": {
    "name": "ipython",
    "version": 3
   },
   "file_extension": ".py",
   "mimetype": "text/x-python",
   "name": "python",
   "nbconvert_exporter": "python",
   "pygments_lexer": "ipython3",
   "version": "3.11.12"
  }
 },
 "nbformat": 4,
 "nbformat_minor": 5
}
