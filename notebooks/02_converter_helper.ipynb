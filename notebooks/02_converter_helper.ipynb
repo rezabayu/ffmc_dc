{
 "cells": [
  {
   "cell_type": "code",
   "execution_count": 1,
   "id": "9a186782",
   "metadata": {},
   "outputs": [],
   "source": [
    "import pandas as pd"
   ]
  },
  {
   "cell_type": "code",
   "execution_count": 2,
   "id": "e3a98bf0",
   "metadata": {},
   "outputs": [
    {
     "data": {
      "text/html": [
       "<div>\n",
       "<style scoped>\n",
       "    .dataframe tbody tr th:only-of-type {\n",
       "        vertical-align: middle;\n",
       "    }\n",
       "\n",
       "    .dataframe tbody tr th {\n",
       "        vertical-align: top;\n",
       "    }\n",
       "\n",
       "    .dataframe thead th {\n",
       "        text-align: right;\n",
       "    }\n",
       "</style>\n",
       "<table border=\"1\" class=\"dataframe\">\n",
       "  <thead>\n",
       "    <tr style=\"text-align: right;\">\n",
       "      <th></th>\n",
       "      <th>station_id</th>\n",
       "      <th>date_local</th>\n",
       "      <th>temp_13LT_C</th>\n",
       "      <th>rh_avg_pc</th>\n",
       "      <th>wind_avg_kmh</th>\n",
       "      <th>qff_avg_hPa</th>\n",
       "      <th>rain_mm</th>\n",
       "      <th>evap_mm</th>\n",
       "      <th>ffmc</th>\n",
       "    </tr>\n",
       "  </thead>\n",
       "  <tbody>\n",
       "    <tr>\n",
       "      <th>0</th>\n",
       "      <td>96595</td>\n",
       "      <td>2015-01-01 00:00:00+00:00</td>\n",
       "      <td>32.2</td>\n",
       "      <td>71.39375</td>\n",
       "      <td>0.92600</td>\n",
       "      <td>1009.58750</td>\n",
       "      <td>3.0</td>\n",
       "      <td>4.0</td>\n",
       "      <td>73.688695</td>\n",
       "    </tr>\n",
       "    <tr>\n",
       "      <th>1</th>\n",
       "      <td>96595</td>\n",
       "      <td>2015-01-02 00:00:00+00:00</td>\n",
       "      <td>30.0</td>\n",
       "      <td>79.08750</td>\n",
       "      <td>0.92600</td>\n",
       "      <td>1010.58125</td>\n",
       "      <td>0.0</td>\n",
       "      <td>3.0</td>\n",
       "      <td>83.174782</td>\n",
       "    </tr>\n",
       "    <tr>\n",
       "      <th>2</th>\n",
       "      <td>96595</td>\n",
       "      <td>2015-01-03 00:00:00+00:00</td>\n",
       "      <td>31.1</td>\n",
       "      <td>79.30000</td>\n",
       "      <td>0.00000</td>\n",
       "      <td>1010.85625</td>\n",
       "      <td>0.0</td>\n",
       "      <td>3.0</td>\n",
       "      <td>84.831423</td>\n",
       "    </tr>\n",
       "    <tr>\n",
       "      <th>3</th>\n",
       "      <td>96595</td>\n",
       "      <td>2015-01-04 00:00:00+00:00</td>\n",
       "      <td>30.9</td>\n",
       "      <td>76.87500</td>\n",
       "      <td>1.15750</td>\n",
       "      <td>1009.85000</td>\n",
       "      <td>20.5</td>\n",
       "      <td>6.0</td>\n",
       "      <td>60.330249</td>\n",
       "    </tr>\n",
       "    <tr>\n",
       "      <th>4</th>\n",
       "      <td>96595</td>\n",
       "      <td>2015-01-05 00:00:00+00:00</td>\n",
       "      <td>29.2</td>\n",
       "      <td>85.48750</td>\n",
       "      <td>0.57875</td>\n",
       "      <td>1010.38750</td>\n",
       "      <td>10.8</td>\n",
       "      <td>6.0</td>\n",
       "      <td>58.220215</td>\n",
       "    </tr>\n",
       "  </tbody>\n",
       "</table>\n",
       "</div>"
      ],
      "text/plain": [
       "   station_id                date_local  temp_13LT_C  rh_avg_pc  wind_avg_kmh  \\\n",
       "0       96595 2015-01-01 00:00:00+00:00         32.2   71.39375       0.92600   \n",
       "1       96595 2015-01-02 00:00:00+00:00         30.0   79.08750       0.92600   \n",
       "2       96595 2015-01-03 00:00:00+00:00         31.1   79.30000       0.00000   \n",
       "3       96595 2015-01-04 00:00:00+00:00         30.9   76.87500       1.15750   \n",
       "4       96595 2015-01-05 00:00:00+00:00         29.2   85.48750       0.57875   \n",
       "\n",
       "   qff_avg_hPa  rain_mm  evap_mm       ffmc  \n",
       "0   1009.58750      3.0      4.0  73.688695  \n",
       "1   1010.58125      0.0      3.0  83.174782  \n",
       "2   1010.85625      0.0      3.0  84.831423  \n",
       "3   1009.85000     20.5      6.0  60.330249  \n",
       "4   1010.38750     10.8      6.0  58.220215  "
      ]
     },
     "execution_count": 2,
     "metadata": {},
     "output_type": "execute_result"
    }
   ],
   "source": [
    "data = pd.read_parquet(\"/home/rzby/ffmc_dc/data/processed/daily_features.parquet\")\n",
    "data.head()"
   ]
  },
  {
   "cell_type": "code",
   "execution_count": 3,
   "id": "f60e0a5a",
   "metadata": {},
   "outputs": [],
   "source": [
    "data.to_csv(\"/home/rzby/ffmc_dc/data/processed/daily_features.csv\", index=False)"
   ]
  }
 ],
 "metadata": {
  "kernelspec": {
   "display_name": "atmo-ann",
   "language": "python",
   "name": "python3"
  },
  "language_info": {
   "codemirror_mode": {
    "name": "ipython",
    "version": 3
   },
   "file_extension": ".py",
   "mimetype": "text/x-python",
   "name": "python",
   "nbconvert_exporter": "python",
   "pygments_lexer": "ipython3",
   "version": "3.11.12"
  }
 },
 "nbformat": 4,
 "nbformat_minor": 5
}
