{
 "cells": [
  {
   "cell_type": "code",
   "execution_count": 1,
   "id": "82766fee",
   "metadata": {},
   "outputs": [],
   "source": [
    "# Imports dan paths\n",
    "\n",
    "import pandas as pd, numpy as np, optuna, mlflow, xgboost as xgb\n",
    "from sklearn.model_selection import GroupShuffleSplit\n",
    "from sklearn.metrics import mean_squared_error, mean_absolute_error, r2_score\n",
    "import matplotlib.pyplot as plt\n",
    "from pathlib import Path"
   ]
  },
  {
   "cell_type": "code",
   "execution_count": 2,
   "id": "f95094c5",
   "metadata": {},
   "outputs": [
    {
     "data": {
      "text/html": [
       "<div>\n",
       "<style scoped>\n",
       "    .dataframe tbody tr th:only-of-type {\n",
       "        vertical-align: middle;\n",
       "    }\n",
       "\n",
       "    .dataframe tbody tr th {\n",
       "        vertical-align: top;\n",
       "    }\n",
       "\n",
       "    .dataframe thead th {\n",
       "        text-align: right;\n",
       "    }\n",
       "</style>\n",
       "<table border=\"1\" class=\"dataframe\">\n",
       "  <thead>\n",
       "    <tr style=\"text-align: right;\">\n",
       "      <th></th>\n",
       "      <th>station_id</th>\n",
       "      <th>date_local</th>\n",
       "      <th>temp_13LT_C</th>\n",
       "      <th>rh_avg_pc</th>\n",
       "      <th>wind_avg_kmh</th>\n",
       "      <th>qff_avg_hPa</th>\n",
       "      <th>rain_mm</th>\n",
       "      <th>evap_mm</th>\n",
       "      <th>ffmc</th>\n",
       "    </tr>\n",
       "  </thead>\n",
       "  <tbody>\n",
       "    <tr>\n",
       "      <th>0</th>\n",
       "      <td>96595</td>\n",
       "      <td>2015-01-01 00:00:00+00:00</td>\n",
       "      <td>32.2</td>\n",
       "      <td>71.39375</td>\n",
       "      <td>0.92600</td>\n",
       "      <td>1009.58750</td>\n",
       "      <td>3.0</td>\n",
       "      <td>4.0</td>\n",
       "      <td>73.688695</td>\n",
       "    </tr>\n",
       "    <tr>\n",
       "      <th>1</th>\n",
       "      <td>96595</td>\n",
       "      <td>2015-01-02 00:00:00+00:00</td>\n",
       "      <td>30.0</td>\n",
       "      <td>79.08750</td>\n",
       "      <td>0.92600</td>\n",
       "      <td>1010.58125</td>\n",
       "      <td>0.0</td>\n",
       "      <td>3.0</td>\n",
       "      <td>83.174782</td>\n",
       "    </tr>\n",
       "    <tr>\n",
       "      <th>2</th>\n",
       "      <td>96595</td>\n",
       "      <td>2015-01-03 00:00:00+00:00</td>\n",
       "      <td>31.1</td>\n",
       "      <td>79.30000</td>\n",
       "      <td>0.00000</td>\n",
       "      <td>1010.85625</td>\n",
       "      <td>0.0</td>\n",
       "      <td>3.0</td>\n",
       "      <td>84.831423</td>\n",
       "    </tr>\n",
       "    <tr>\n",
       "      <th>3</th>\n",
       "      <td>96595</td>\n",
       "      <td>2015-01-04 00:00:00+00:00</td>\n",
       "      <td>30.9</td>\n",
       "      <td>76.87500</td>\n",
       "      <td>1.15750</td>\n",
       "      <td>1009.85000</td>\n",
       "      <td>20.5</td>\n",
       "      <td>6.0</td>\n",
       "      <td>60.330249</td>\n",
       "    </tr>\n",
       "    <tr>\n",
       "      <th>4</th>\n",
       "      <td>96595</td>\n",
       "      <td>2015-01-05 00:00:00+00:00</td>\n",
       "      <td>29.2</td>\n",
       "      <td>85.48750</td>\n",
       "      <td>0.57875</td>\n",
       "      <td>1010.38750</td>\n",
       "      <td>10.8</td>\n",
       "      <td>6.0</td>\n",
       "      <td>58.220215</td>\n",
       "    </tr>\n",
       "  </tbody>\n",
       "</table>\n",
       "</div>"
      ],
      "text/plain": [
       "   station_id                date_local  temp_13LT_C  rh_avg_pc  wind_avg_kmh  \\\n",
       "0       96595 2015-01-01 00:00:00+00:00         32.2   71.39375       0.92600   \n",
       "1       96595 2015-01-02 00:00:00+00:00         30.0   79.08750       0.92600   \n",
       "2       96595 2015-01-03 00:00:00+00:00         31.1   79.30000       0.00000   \n",
       "3       96595 2015-01-04 00:00:00+00:00         30.9   76.87500       1.15750   \n",
       "4       96595 2015-01-05 00:00:00+00:00         29.2   85.48750       0.57875   \n",
       "\n",
       "   qff_avg_hPa  rain_mm  evap_mm       ffmc  \n",
       "0   1009.58750      3.0      4.0  73.688695  \n",
       "1   1010.58125      0.0      3.0  83.174782  \n",
       "2   1010.85625      0.0      3.0  84.831423  \n",
       "3   1009.85000     20.5      6.0  60.330249  \n",
       "4   1010.38750     10.8      6.0  58.220215  "
      ]
     },
     "execution_count": 2,
     "metadata": {},
     "output_type": "execute_result"
    }
   ],
   "source": [
    "# Load data\n",
    "DAILY_PARQUET = Path(\"../data/processed/daily_features.parquet\")\n",
    "df_daily = pd.read_parquet(DAILY_PARQUET)\n",
    "df_daily.head()"
   ]
  },
  {
   "cell_type": "code",
   "execution_count": 3,
   "id": "228cc4c8",
   "metadata": {},
   "outputs": [],
   "source": [
    "df_daily[\"date_local\"] = pd.to_datetime(df_daily[\"date_local\"])"
   ]
  },
  {
   "cell_type": "code",
   "execution_count": 4,
   "id": "d4e1eaa6",
   "metadata": {},
   "outputs": [
    {
     "data": {
      "text/html": [
       "<div>\n",
       "<style scoped>\n",
       "    .dataframe tbody tr th:only-of-type {\n",
       "        vertical-align: middle;\n",
       "    }\n",
       "\n",
       "    .dataframe tbody tr th {\n",
       "        vertical-align: top;\n",
       "    }\n",
       "\n",
       "    .dataframe thead th {\n",
       "        text-align: right;\n",
       "    }\n",
       "</style>\n",
       "<table border=\"1\" class=\"dataframe\">\n",
       "  <thead>\n",
       "    <tr style=\"text-align: right;\">\n",
       "      <th></th>\n",
       "      <th>date_local</th>\n",
       "      <th>station_id</th>\n",
       "      <th>temp_13LT_C</th>\n",
       "      <th>rh_avg_pc</th>\n",
       "      <th>wind_avg_kmh</th>\n",
       "      <th>qff_avg_hPa</th>\n",
       "      <th>rain_mm</th>\n",
       "      <th>evap_mm</th>\n",
       "      <th>ffmc</th>\n",
       "      <th>temp_13LT_C_lag1</th>\n",
       "      <th>...</th>\n",
       "      <th>rain_mm_lag3</th>\n",
       "      <th>rain_mm_roll3</th>\n",
       "      <th>rain_mm_roll7</th>\n",
       "      <th>evap_mm_lag1</th>\n",
       "      <th>evap_mm_lag3</th>\n",
       "      <th>evap_mm_roll3</th>\n",
       "      <th>evap_mm_roll7</th>\n",
       "      <th>doy_sin</th>\n",
       "      <th>doy_cos</th>\n",
       "      <th>month</th>\n",
       "    </tr>\n",
       "  </thead>\n",
       "  <tbody>\n",
       "    <tr>\n",
       "      <th>0</th>\n",
       "      <td>2015-01-04 00:00:00+00:00</td>\n",
       "      <td>96595</td>\n",
       "      <td>30.9</td>\n",
       "      <td>76.87500</td>\n",
       "      <td>1.15750</td>\n",
       "      <td>1009.85000</td>\n",
       "      <td>20.5</td>\n",
       "      <td>6.0</td>\n",
       "      <td>60.330249</td>\n",
       "      <td>31.1</td>\n",
       "      <td>...</td>\n",
       "      <td>3.0</td>\n",
       "      <td>6.833333</td>\n",
       "      <td>5.875000</td>\n",
       "      <td>3.0</td>\n",
       "      <td>4.0</td>\n",
       "      <td>4.000000</td>\n",
       "      <td>4.000000</td>\n",
       "      <td>0.068755</td>\n",
       "      <td>0.997634</td>\n",
       "      <td>1</td>\n",
       "    </tr>\n",
       "    <tr>\n",
       "      <th>1</th>\n",
       "      <td>2015-01-05 00:00:00+00:00</td>\n",
       "      <td>96595</td>\n",
       "      <td>29.2</td>\n",
       "      <td>85.48750</td>\n",
       "      <td>0.57875</td>\n",
       "      <td>1010.38750</td>\n",
       "      <td>10.8</td>\n",
       "      <td>6.0</td>\n",
       "      <td>58.220215</td>\n",
       "      <td>30.9</td>\n",
       "      <td>...</td>\n",
       "      <td>0.0</td>\n",
       "      <td>10.433333</td>\n",
       "      <td>6.860000</td>\n",
       "      <td>6.0</td>\n",
       "      <td>3.0</td>\n",
       "      <td>5.000000</td>\n",
       "      <td>4.400000</td>\n",
       "      <td>0.085906</td>\n",
       "      <td>0.996303</td>\n",
       "      <td>1</td>\n",
       "    </tr>\n",
       "    <tr>\n",
       "      <th>2</th>\n",
       "      <td>2015-01-06 00:00:00+00:00</td>\n",
       "      <td>96595</td>\n",
       "      <td>30.0</td>\n",
       "      <td>82.90625</td>\n",
       "      <td>1.50475</td>\n",
       "      <td>1009.46250</td>\n",
       "      <td>32.5</td>\n",
       "      <td>6.0</td>\n",
       "      <td>60.075054</td>\n",
       "      <td>29.2</td>\n",
       "      <td>...</td>\n",
       "      <td>0.0</td>\n",
       "      <td>21.266667</td>\n",
       "      <td>11.133333</td>\n",
       "      <td>6.0</td>\n",
       "      <td>3.0</td>\n",
       "      <td>6.000000</td>\n",
       "      <td>4.666667</td>\n",
       "      <td>0.103031</td>\n",
       "      <td>0.994678</td>\n",
       "      <td>1</td>\n",
       "    </tr>\n",
       "    <tr>\n",
       "      <th>3</th>\n",
       "      <td>2015-01-07 00:00:00+00:00</td>\n",
       "      <td>96595</td>\n",
       "      <td>27.2</td>\n",
       "      <td>88.31875</td>\n",
       "      <td>2.08350</td>\n",
       "      <td>1010.45625</td>\n",
       "      <td>19.7</td>\n",
       "      <td>4.0</td>\n",
       "      <td>56.740650</td>\n",
       "      <td>30.0</td>\n",
       "      <td>...</td>\n",
       "      <td>20.5</td>\n",
       "      <td>21.000000</td>\n",
       "      <td>12.357143</td>\n",
       "      <td>6.0</td>\n",
       "      <td>6.0</td>\n",
       "      <td>5.333333</td>\n",
       "      <td>4.571429</td>\n",
       "      <td>0.120126</td>\n",
       "      <td>0.992759</td>\n",
       "      <td>1</td>\n",
       "    </tr>\n",
       "    <tr>\n",
       "      <th>4</th>\n",
       "      <td>2015-01-08 00:00:00+00:00</td>\n",
       "      <td>96595</td>\n",
       "      <td>28.6</td>\n",
       "      <td>84.60625</td>\n",
       "      <td>1.15750</td>\n",
       "      <td>1010.61250</td>\n",
       "      <td>6.3</td>\n",
       "      <td>4.0</td>\n",
       "      <td>62.820614</td>\n",
       "      <td>27.2</td>\n",
       "      <td>...</td>\n",
       "      <td>10.8</td>\n",
       "      <td>19.500000</td>\n",
       "      <td>12.828571</td>\n",
       "      <td>4.0</td>\n",
       "      <td>6.0</td>\n",
       "      <td>4.666667</td>\n",
       "      <td>4.571429</td>\n",
       "      <td>0.137185</td>\n",
       "      <td>0.990545</td>\n",
       "      <td>1</td>\n",
       "    </tr>\n",
       "  </tbody>\n",
       "</table>\n",
       "<p>5 rows × 36 columns</p>\n",
       "</div>"
      ],
      "text/plain": [
       "                 date_local  station_id  temp_13LT_C  rh_avg_pc  wind_avg_kmh  \\\n",
       "0 2015-01-04 00:00:00+00:00       96595         30.9   76.87500       1.15750   \n",
       "1 2015-01-05 00:00:00+00:00       96595         29.2   85.48750       0.57875   \n",
       "2 2015-01-06 00:00:00+00:00       96595         30.0   82.90625       1.50475   \n",
       "3 2015-01-07 00:00:00+00:00       96595         27.2   88.31875       2.08350   \n",
       "4 2015-01-08 00:00:00+00:00       96595         28.6   84.60625       1.15750   \n",
       "\n",
       "   qff_avg_hPa  rain_mm  evap_mm       ffmc  temp_13LT_C_lag1  ...  \\\n",
       "0   1009.85000     20.5      6.0  60.330249              31.1  ...   \n",
       "1   1010.38750     10.8      6.0  58.220215              30.9  ...   \n",
       "2   1009.46250     32.5      6.0  60.075054              29.2  ...   \n",
       "3   1010.45625     19.7      4.0  56.740650              30.0  ...   \n",
       "4   1010.61250      6.3      4.0  62.820614              27.2  ...   \n",
       "\n",
       "   rain_mm_lag3  rain_mm_roll3  rain_mm_roll7  evap_mm_lag1  evap_mm_lag3  \\\n",
       "0           3.0       6.833333       5.875000           3.0           4.0   \n",
       "1           0.0      10.433333       6.860000           6.0           3.0   \n",
       "2           0.0      21.266667      11.133333           6.0           3.0   \n",
       "3          20.5      21.000000      12.357143           6.0           6.0   \n",
       "4          10.8      19.500000      12.828571           4.0           6.0   \n",
       "\n",
       "   evap_mm_roll3  evap_mm_roll7   doy_sin   doy_cos  month  \n",
       "0       4.000000       4.000000  0.068755  0.997634      1  \n",
       "1       5.000000       4.400000  0.085906  0.996303      1  \n",
       "2       6.000000       4.666667  0.103031  0.994678      1  \n",
       "3       5.333333       4.571429  0.120126  0.992759      1  \n",
       "4       4.666667       4.571429  0.137185  0.990545      1  \n",
       "\n",
       "[5 rows x 36 columns]"
      ]
     },
     "execution_count": 4,
     "metadata": {},
     "output_type": "execute_result"
    }
   ],
   "source": [
    "### Feature engineering – lags, rolling means, DOY encodings\n",
    "LAGS  = [1, 3]\n",
    "ROLLS = [3, 7]\n",
    "\n",
    "df = df_daily.sort_values([\"station_id\", \"date_local\"]).set_index(\"date_local\")\n",
    "\n",
    "for col in [\"temp_13LT_C\", \"rh_avg_pc\", \"wind_avg_kmh\",\n",
    "            \"qff_avg_hPa\", \"rain_mm\", \"evap_mm\"]:\n",
    "    for k in LAGS:\n",
    "        df[f\"{col}_lag{k}\"] = df.groupby(\"station_id\")[col].shift(k)\n",
    "    for w in ROLLS:\n",
    "        df[f\"{col}_roll{w}\"] = (\n",
    "            df.groupby(\"station_id\")[col]\n",
    "              .rolling(w, min_periods=1).mean()\n",
    "              .droplevel(0)\n",
    "        )\n",
    "\n",
    "df[\"doy_sin\"] = np.sin(2*np.pi*df.index.dayofyear / 365.25)\n",
    "df[\"doy_cos\"] = np.cos(2*np.pi*df.index.dayofyear / 365.25)\n",
    "df[\"month\"]   = df.index.month\n",
    "\n",
    "# drop first-lag rows that now contain NaN\n",
    "df = df.dropna(subset=[c for c in df.columns if \"lag\" in c]).reset_index()\n",
    "df.head()\n"
   ]
  },
  {
   "cell_type": "code",
   "execution_count": 8,
   "id": "dcaf6be1",
   "metadata": {},
   "outputs": [
    {
     "name": "stdout",
     "output_type": "stream",
     "text": [
      "Train rows: 13,095  |  Test rows: 3,273\n",
      "1     58.220215\n",
      "2     60.075054\n",
      "3     56.740650\n",
      "4     62.820614\n",
      "5     81.446023\n",
      "6     65.017678\n",
      "7     60.586865\n",
      "8     53.526273\n",
      "9     60.842692\n",
      "10    50.632887\n",
      "Name: ffmc, dtype: float64\n",
      "2210    75.815924\n",
      "2338    84.784616\n",
      "1656    83.212600\n",
      "1652    79.109409\n",
      "1451    59.156528\n",
      "2638    67.484119\n",
      "864     80.991939\n",
      "238     86.612615\n",
      "2576    56.095540\n",
      "1366    83.784558\n",
      "Name: ffmc, dtype: float64\n"
     ]
    },
    {
     "name": "stderr",
     "output_type": "stream",
     "text": [
      "/tmp/ipykernel_7263/816413710.py:8: DeprecationWarning: DataFrameGroupBy.apply operated on the grouping columns. This behavior is deprecated, and in a future version of pandas the grouping columns will be excluded from the operation. Either pass `include_groups=False` to exclude the groupings or explicitly select the grouping columns after groupby to silence this warning.\n",
      "  .apply(lambda g: g.sample(frac=test_frac, random_state=42))\n"
     ]
    }
   ],
   "source": [
    "###  NEW – station-stratified random split\n",
    "\n",
    "from sklearn.utils import shuffle\n",
    "\n",
    "test_frac = 0.20\n",
    "test_idx  = (\n",
    "    df.groupby('station_id', group_keys=False)\n",
    "      .apply(lambda g: g.sample(frac=test_frac, random_state=42))\n",
    "      .index\n",
    ")\n",
    "\n",
    "train_idx = df.index.difference(test_idx)\n",
    "\n",
    "train = df.loc[train_idx].copy()\n",
    "test  = df.loc[test_idx].copy()\n",
    "\n",
    "PRED_COLS = [c for c in df.columns if c not in ('station_id', 'ffmc', 'date_local')]\n",
    "X_train, y_train = train[PRED_COLS], train['ffmc']\n",
    "X_test,  y_test  = test[PRED_COLS],  test['ffmc']\n",
    "print(f\"Train rows: {len(train):,}  |  Test rows: {len(test):,}\")\n",
    "\n",
    "print(y_train[:10])\n",
    "print(y_test[:10])\n"
   ]
  },
  {
   "cell_type": "code",
   "execution_count": 9,
   "id": "4c9a9d1f",
   "metadata": {},
   "outputs": [
    {
     "name": "stderr",
     "output_type": "stream",
     "text": [
      "[I 2025-06-22 10:55:14,658] A new study created in memory with name: no-name-aaead55b-f3d8-44f5-a596-b06beadc5458\n"
     ]
    },
    {
     "data": {
      "application/vnd.jupyter.widget-view+json": {
       "model_id": "5c44b2e9387548f3840b30dc04f3ab32",
       "version_major": 2,
       "version_minor": 0
      },
      "text/plain": [
       "  0%|          | 0/40 [00:00<?, ?it/s]"
      ]
     },
     "metadata": {},
     "output_type": "display_data"
    },
    {
     "name": "stderr",
     "output_type": "stream",
     "text": [
      "2025/06/22 10:55:22 WARNING mlflow.models.model: `artifact_path` is deprecated. Please use `name` instead.\n",
      "/home/rzby/miniforge3/envs/atmo-ann/lib/python3.11/site-packages/xgboost/sklearn.py:1028: UserWarning: [10:55:22] WARNING: /home/conda/feedstock_root/build_artifacts/xgboost-split_1748293041487/work/src/c_api/c_api.cc:1427: Saving model in the UBJSON format as default.  You can use file extension: `json`, `ubj` or `deprecated` to choose between formats.\n",
      "  self.get_booster().save_model(fname)\n",
      "\u001b[31m2025/06/22 10:55:25 WARNING mlflow.models.model: Model logged without a signature and input example. Please set `input_example` parameter when logging the model to auto infer the model signature.\u001b[0m\n"
     ]
    },
    {
     "name": "stdout",
     "output_type": "stream",
     "text": [
      "[I 2025-06-22 10:55:25,386] Trial 0 finished with value: 0.47994708796528074 and parameters: {'n_estimators': 1140, 'max_depth': 7, 'learning_rate': 0.01769006525284449, 'subsample': 0.7562825182548983, 'colsample_bytree': 0.753874811087426}. Best is trial 0 with value: 0.47994708796528074.\n"
     ]
    },
    {
     "name": "stderr",
     "output_type": "stream",
     "text": [
      "2025/06/22 10:55:43 WARNING mlflow.models.model: `artifact_path` is deprecated. Please use `name` instead.\n",
      "/home/rzby/miniforge3/envs/atmo-ann/lib/python3.11/site-packages/xgboost/sklearn.py:1028: UserWarning: [10:55:43] WARNING: /home/conda/feedstock_root/build_artifacts/xgboost-split_1748293041487/work/src/c_api/c_api.cc:1427: Saving model in the UBJSON format as default.  You can use file extension: `json`, `ubj` or `deprecated` to choose between formats.\n",
      "  self.get_booster().save_model(fname)\n",
      "\u001b[31m2025/06/22 10:55:46 WARNING mlflow.models.model: Model logged without a signature and input example. Please set `input_example` parameter when logging the model to auto infer the model signature.\u001b[0m\n"
     ]
    },
    {
     "name": "stdout",
     "output_type": "stream",
     "text": [
      "[I 2025-06-22 10:55:46,101] Trial 1 finished with value: 0.6289454736296098 and parameters: {'n_estimators': 881, 'max_depth': 10, 'learning_rate': 0.06869380089271686, 'subsample': 0.9175957591173572, 'colsample_bytree': 0.8688929844158051}. Best is trial 0 with value: 0.47994708796528074.\n"
     ]
    },
    {
     "name": "stderr",
     "output_type": "stream",
     "text": [
      "2025/06/22 10:55:47 WARNING mlflow.models.model: `artifact_path` is deprecated. Please use `name` instead.\n",
      "/home/rzby/miniforge3/envs/atmo-ann/lib/python3.11/site-packages/xgboost/sklearn.py:1028: UserWarning: [10:55:47] WARNING: /home/conda/feedstock_root/build_artifacts/xgboost-split_1748293041487/work/src/c_api/c_api.cc:1427: Saving model in the UBJSON format as default.  You can use file extension: `json`, `ubj` or `deprecated` to choose between formats.\n",
      "  self.get_booster().save_model(fname)\n",
      "\u001b[31m2025/06/22 10:55:49 WARNING mlflow.models.model: Model logged without a signature and input example. Please set `input_example` parameter when logging the model to auto infer the model signature.\u001b[0m\n"
     ]
    },
    {
     "name": "stdout",
     "output_type": "stream",
     "text": [
      "[I 2025-06-22 10:55:49,419] Trial 2 finished with value: 0.4577628925049317 and parameters: {'n_estimators': 964, 'max_depth': 3, 'learning_rate': 0.20164522373770044, 'subsample': 0.6933489229804984, 'colsample_bytree': 0.9946144971841837}. Best is trial 2 with value: 0.4577628925049317.\n"
     ]
    },
    {
     "name": "stderr",
     "output_type": "stream",
     "text": [
      "2025/06/22 10:56:05 WARNING mlflow.models.model: `artifact_path` is deprecated. Please use `name` instead.\n",
      "/home/rzby/miniforge3/envs/atmo-ann/lib/python3.11/site-packages/xgboost/sklearn.py:1028: UserWarning: [10:56:05] WARNING: /home/conda/feedstock_root/build_artifacts/xgboost-split_1748293041487/work/src/c_api/c_api.cc:1427: Saving model in the UBJSON format as default.  You can use file extension: `json`, `ubj` or `deprecated` to choose between formats.\n",
      "  self.get_booster().save_model(fname)\n",
      "\u001b[31m2025/06/22 10:56:07 WARNING mlflow.models.model: Model logged without a signature and input example. Please set `input_example` parameter when logging the model to auto infer the model signature.\u001b[0m\n"
     ]
    },
    {
     "name": "stdout",
     "output_type": "stream",
     "text": [
      "[I 2025-06-22 10:56:07,256] Trial 3 finished with value: 0.6693746984085779 and parameters: {'n_estimators': 900, 'max_depth': 9, 'learning_rate': 0.016822791755007088, 'subsample': 0.963101019959681, 'colsample_bytree': 0.7368639757308761}. Best is trial 2 with value: 0.4577628925049317.\n"
     ]
    },
    {
     "name": "stderr",
     "output_type": "stream",
     "text": [
      "2025/06/22 10:56:08 WARNING mlflow.models.model: `artifact_path` is deprecated. Please use `name` instead.\n",
      "/home/rzby/miniforge3/envs/atmo-ann/lib/python3.11/site-packages/xgboost/sklearn.py:1028: UserWarning: [10:56:08] WARNING: /home/conda/feedstock_root/build_artifacts/xgboost-split_1748293041487/work/src/c_api/c_api.cc:1427: Saving model in the UBJSON format as default.  You can use file extension: `json`, `ubj` or `deprecated` to choose between formats.\n",
      "  self.get_booster().save_model(fname)\n",
      "\u001b[31m2025/06/22 10:56:11 WARNING mlflow.models.model: Model logged without a signature and input example. Please set `input_example` parameter when logging the model to auto infer the model signature.\u001b[0m\n"
     ]
    },
    {
     "name": "stdout",
     "output_type": "stream",
     "text": [
      "[I 2025-06-22 10:56:11,559] Trial 4 finished with value: 0.49426773889136727 and parameters: {'n_estimators': 364, 'max_depth': 6, 'learning_rate': 0.09383846616834192, 'subsample': 0.8935081493345028, 'colsample_bytree': 0.751527179064651}. Best is trial 2 with value: 0.4577628925049317.\n"
     ]
    },
    {
     "name": "stderr",
     "output_type": "stream",
     "text": [
      "2025/06/22 10:56:12 WARNING mlflow.models.model: `artifact_path` is deprecated. Please use `name` instead.\n",
      "/home/rzby/miniforge3/envs/atmo-ann/lib/python3.11/site-packages/xgboost/sklearn.py:1028: UserWarning: [10:56:12] WARNING: /home/conda/feedstock_root/build_artifacts/xgboost-split_1748293041487/work/src/c_api/c_api.cc:1427: Saving model in the UBJSON format as default.  You can use file extension: `json`, `ubj` or `deprecated` to choose between formats.\n",
      "  self.get_booster().save_model(fname)\n",
      "\u001b[31m2025/06/22 10:56:14 WARNING mlflow.models.model: Model logged without a signature and input example. Please set `input_example` parameter when logging the model to auto infer the model signature.\u001b[0m\n"
     ]
    },
    {
     "name": "stdout",
     "output_type": "stream",
     "text": [
      "[I 2025-06-22 10:56:14,918] Trial 5 finished with value: 0.45415505085997226 and parameters: {'n_estimators': 803, 'max_depth': 4, 'learning_rate': 0.14147816548259373, 'subsample': 0.966502158835969, 'colsample_bytree': 0.8011798654347425}. Best is trial 5 with value: 0.45415505085997226.\n"
     ]
    },
    {
     "name": "stderr",
     "output_type": "stream",
     "text": [
      "2025/06/22 10:56:21 WARNING mlflow.models.model: `artifact_path` is deprecated. Please use `name` instead.\n",
      "/home/rzby/miniforge3/envs/atmo-ann/lib/python3.11/site-packages/xgboost/sklearn.py:1028: UserWarning: [10:56:21] WARNING: /home/conda/feedstock_root/build_artifacts/xgboost-split_1748293041487/work/src/c_api/c_api.cc:1427: Saving model in the UBJSON format as default.  You can use file extension: `json`, `ubj` or `deprecated` to choose between formats.\n",
      "  self.get_booster().save_model(fname)\n",
      "\u001b[31m2025/06/22 10:56:23 WARNING mlflow.models.model: Model logged without a signature and input example. Please set `input_example` parameter when logging the model to auto infer the model signature.\u001b[0m\n"
     ]
    },
    {
     "name": "stdout",
     "output_type": "stream",
     "text": [
      "[I 2025-06-22 10:56:23,839] Trial 6 finished with value: 0.4256557908858388 and parameters: {'n_estimators': 914, 'max_depth': 7, 'learning_rate': 0.01450138481842731, 'subsample': 0.9399094789954018, 'colsample_bytree': 0.8839973981172713}. Best is trial 6 with value: 0.4256557908858388.\n"
     ]
    },
    {
     "name": "stderr",
     "output_type": "stream",
     "text": [
      "2025/06/22 10:56:26 WARNING mlflow.models.model: `artifact_path` is deprecated. Please use `name` instead.\n",
      "/home/rzby/miniforge3/envs/atmo-ann/lib/python3.11/site-packages/xgboost/sklearn.py:1028: UserWarning: [10:56:26] WARNING: /home/conda/feedstock_root/build_artifacts/xgboost-split_1748293041487/work/src/c_api/c_api.cc:1427: Saving model in the UBJSON format as default.  You can use file extension: `json`, `ubj` or `deprecated` to choose between formats.\n",
      "  self.get_booster().save_model(fname)\n",
      "\u001b[31m2025/06/22 10:56:28 WARNING mlflow.models.model: Model logged without a signature and input example. Please set `input_example` parameter when logging the model to auto infer the model signature.\u001b[0m\n"
     ]
    },
    {
     "name": "stdout",
     "output_type": "stream",
     "text": [
      "[I 2025-06-22 10:56:28,591] Trial 7 finished with value: 0.4176392133238966 and parameters: {'n_estimators': 596, 'max_depth': 6, 'learning_rate': 0.06396127099985735, 'subsample': 0.7123021070434551, 'colsample_bytree': 0.9368929440903835}. Best is trial 7 with value: 0.4176392133238966.\n"
     ]
    },
    {
     "name": "stderr",
     "output_type": "stream",
     "text": [
      "2025/06/22 10:56:33 WARNING mlflow.models.model: `artifact_path` is deprecated. Please use `name` instead.\n",
      "/home/rzby/miniforge3/envs/atmo-ann/lib/python3.11/site-packages/xgboost/sklearn.py:1028: UserWarning: [10:56:33] WARNING: /home/conda/feedstock_root/build_artifacts/xgboost-split_1748293041487/work/src/c_api/c_api.cc:1427: Saving model in the UBJSON format as default.  You can use file extension: `json`, `ubj` or `deprecated` to choose between formats.\n",
      "  self.get_booster().save_model(fname)\n",
      "\u001b[31m2025/06/22 10:56:35 WARNING mlflow.models.model: Model logged without a signature and input example. Please set `input_example` parameter when logging the model to auto infer the model signature.\u001b[0m\n"
     ]
    },
    {
     "name": "stdout",
     "output_type": "stream",
     "text": [
      "[I 2025-06-22 10:56:35,168] Trial 8 finished with value: 0.5061310946156926 and parameters: {'n_estimators': 670, 'max_depth': 7, 'learning_rate': 0.10514969800539085, 'subsample': 0.660821460402827, 'colsample_bytree': 0.8737690774009774}. Best is trial 7 with value: 0.4176392133238966.\n"
     ]
    },
    {
     "name": "stderr",
     "output_type": "stream",
     "text": [
      "2025/06/22 10:56:38 WARNING mlflow.models.model: `artifact_path` is deprecated. Please use `name` instead.\n",
      "/home/rzby/miniforge3/envs/atmo-ann/lib/python3.11/site-packages/xgboost/sklearn.py:1028: UserWarning: [10:56:38] WARNING: /home/conda/feedstock_root/build_artifacts/xgboost-split_1748293041487/work/src/c_api/c_api.cc:1427: Saving model in the UBJSON format as default.  You can use file extension: `json`, `ubj` or `deprecated` to choose between formats.\n",
      "  self.get_booster().save_model(fname)\n",
      "\u001b[31m2025/06/22 10:56:40 WARNING mlflow.models.model: Model logged without a signature and input example. Please set `input_example` parameter when logging the model to auto infer the model signature.\u001b[0m\n"
     ]
    },
    {
     "name": "stdout",
     "output_type": "stream",
     "text": [
      "[I 2025-06-22 10:56:40,609] Trial 9 finished with value: 0.5076673459628763 and parameters: {'n_estimators': 450, 'max_depth': 7, 'learning_rate': 0.17178309020338095, 'subsample': 0.8295288307358253, 'colsample_bytree': 0.9235697316706591}. Best is trial 7 with value: 0.4176392133238966.\n"
     ]
    },
    {
     "name": "stderr",
     "output_type": "stream",
     "text": [
      "2025/06/22 10:56:41 WARNING mlflow.models.model: `artifact_path` is deprecated. Please use `name` instead.\n",
      "/home/rzby/miniforge3/envs/atmo-ann/lib/python3.11/site-packages/xgboost/sklearn.py:1028: UserWarning: [10:56:41] WARNING: /home/conda/feedstock_root/build_artifacts/xgboost-split_1748293041487/work/src/c_api/c_api.cc:1427: Saving model in the UBJSON format as default.  You can use file extension: `json`, `ubj` or `deprecated` to choose between formats.\n",
      "  self.get_booster().save_model(fname)\n",
      "\u001b[31m2025/06/22 10:56:44 WARNING mlflow.models.model: Model logged without a signature and input example. Please set `input_example` parameter when logging the model to auto infer the model signature.\u001b[0m\n"
     ]
    },
    {
     "name": "stdout",
     "output_type": "stream",
     "text": [
      "[I 2025-06-22 10:56:44,054] Trial 10 finished with value: 0.48502831024960064 and parameters: {'n_estimators': 585, 'max_depth': 5, 'learning_rate': 0.03749579936490087, 'subsample': 0.6160508439094023, 'colsample_bytree': 0.6364519409091768}. Best is trial 7 with value: 0.4176392133238966.\n"
     ]
    },
    {
     "name": "stderr",
     "output_type": "stream",
     "text": [
      "2025/06/22 10:56:50 WARNING mlflow.models.model: `artifact_path` is deprecated. Please use `name` instead.\n",
      "/home/rzby/miniforge3/envs/atmo-ann/lib/python3.11/site-packages/xgboost/sklearn.py:1028: UserWarning: [10:56:50] WARNING: /home/conda/feedstock_root/build_artifacts/xgboost-split_1748293041487/work/src/c_api/c_api.cc:1427: Saving model in the UBJSON format as default.  You can use file extension: `json`, `ubj` or `deprecated` to choose between formats.\n",
      "  self.get_booster().save_model(fname)\n",
      "\u001b[31m2025/06/22 10:56:52 WARNING mlflow.models.model: Model logged without a signature and input example. Please set `input_example` parameter when logging the model to auto infer the model signature.\u001b[0m\n"
     ]
    },
    {
     "name": "stdout",
     "output_type": "stream",
     "text": [
      "[I 2025-06-22 10:56:52,254] Trial 11 finished with value: 0.4121184210296604 and parameters: {'n_estimators': 551, 'max_depth': 8, 'learning_rate': 0.034414698825187766, 'subsample': 0.7793244696022135, 'colsample_bytree': 0.9970013016219529}. Best is trial 11 with value: 0.4121184210296604.\n"
     ]
    },
    {
     "name": "stderr",
     "output_type": "stream",
     "text": [
      "2025/06/22 10:57:02 WARNING mlflow.models.model: `artifact_path` is deprecated. Please use `name` instead.\n",
      "/home/rzby/miniforge3/envs/atmo-ann/lib/python3.11/site-packages/xgboost/sklearn.py:1028: UserWarning: [10:57:02] WARNING: /home/conda/feedstock_root/build_artifacts/xgboost-split_1748293041487/work/src/c_api/c_api.cc:1427: Saving model in the UBJSON format as default.  You can use file extension: `json`, `ubj` or `deprecated` to choose between formats.\n",
      "  self.get_booster().save_model(fname)\n",
      "\u001b[31m2025/06/22 10:57:04 WARNING mlflow.models.model: Model logged without a signature and input example. Please set `input_example` parameter when logging the model to auto infer the model signature.\u001b[0m\n"
     ]
    },
    {
     "name": "stdout",
     "output_type": "stream",
     "text": [
      "[I 2025-06-22 10:57:04,480] Trial 12 finished with value: 0.4245309553377081 and parameters: {'n_estimators': 548, 'max_depth': 9, 'learning_rate': 0.03326891976443624, 'subsample': 0.7636096927063217, 'colsample_bytree': 0.994040631065783}. Best is trial 11 with value: 0.4121184210296604.\n"
     ]
    },
    {
     "name": "stderr",
     "output_type": "stream",
     "text": [
      "2025/06/22 10:57:08 WARNING mlflow.models.model: `artifact_path` is deprecated. Please use `name` instead.\n",
      "/home/rzby/miniforge3/envs/atmo-ann/lib/python3.11/site-packages/xgboost/sklearn.py:1028: UserWarning: [10:57:08] WARNING: /home/conda/feedstock_root/build_artifacts/xgboost-split_1748293041487/work/src/c_api/c_api.cc:1427: Saving model in the UBJSON format as default.  You can use file extension: `json`, `ubj` or `deprecated` to choose between formats.\n",
      "  self.get_booster().save_model(fname)\n",
      "\u001b[31m2025/06/22 10:57:10 WARNING mlflow.models.model: Model logged without a signature and input example. Please set `input_example` parameter when logging the model to auto infer the model signature.\u001b[0m\n"
     ]
    },
    {
     "name": "stdout",
     "output_type": "stream",
     "text": [
      "[I 2025-06-22 10:57:10,344] Trial 13 finished with value: 0.4620514358091091 and parameters: {'n_estimators': 306, 'max_depth': 8, 'learning_rate': 0.03834611293160331, 'subsample': 0.829613964489913, 'colsample_bytree': 0.9354334134346939}. Best is trial 11 with value: 0.4121184210296604.\n"
     ]
    },
    {
     "name": "stderr",
     "output_type": "stream",
     "text": [
      "2025/06/22 10:57:12 WARNING mlflow.models.model: `artifact_path` is deprecated. Please use `name` instead.\n",
      "/home/rzby/miniforge3/envs/atmo-ann/lib/python3.11/site-packages/xgboost/sklearn.py:1028: UserWarning: [10:57:12] WARNING: /home/conda/feedstock_root/build_artifacts/xgboost-split_1748293041487/work/src/c_api/c_api.cc:1427: Saving model in the UBJSON format as default.  You can use file extension: `json`, `ubj` or `deprecated` to choose between formats.\n",
      "  self.get_booster().save_model(fname)\n",
      "\u001b[31m2025/06/22 10:57:14 WARNING mlflow.models.model: Model logged without a signature and input example. Please set `input_example` parameter when logging the model to auto infer the model signature.\u001b[0m\n"
     ]
    },
    {
     "name": "stdout",
     "output_type": "stream",
     "text": [
      "[I 2025-06-22 10:57:14,093] Trial 14 finished with value: 0.39086946679819357 and parameters: {'n_estimators': 679, 'max_depth': 5, 'learning_rate': 0.0528206283024621, 'subsample': 0.72815347441605, 'colsample_bytree': 0.9528330317318678}. Best is trial 14 with value: 0.39086946679819357.\n"
     ]
    },
    {
     "name": "stderr",
     "output_type": "stream",
     "text": [
      "2025/06/22 10:57:15 WARNING mlflow.models.model: `artifact_path` is deprecated. Please use `name` instead.\n",
      "/home/rzby/miniforge3/envs/atmo-ann/lib/python3.11/site-packages/xgboost/sklearn.py:1028: UserWarning: [10:57:15] WARNING: /home/conda/feedstock_root/build_artifacts/xgboost-split_1748293041487/work/src/c_api/c_api.cc:1427: Saving model in the UBJSON format as default.  You can use file extension: `json`, `ubj` or `deprecated` to choose between formats.\n",
      "  self.get_booster().save_model(fname)\n",
      "\u001b[31m2025/06/22 10:57:17 WARNING mlflow.models.model: Model logged without a signature and input example. Please set `input_example` parameter when logging the model to auto infer the model signature.\u001b[0m\n"
     ]
    },
    {
     "name": "stdout",
     "output_type": "stream",
     "text": [
      "[I 2025-06-22 10:57:17,298] Trial 15 finished with value: 0.4080137503047917 and parameters: {'n_estimators': 700, 'max_depth': 4, 'learning_rate': 0.026560754328615047, 'subsample': 0.7833199525941545, 'colsample_bytree': 0.9946864056588126}. Best is trial 14 with value: 0.39086946679819357.\n"
     ]
    },
    {
     "name": "stderr",
     "output_type": "stream",
     "text": [
      "2025/06/22 10:57:18 WARNING mlflow.models.model: `artifact_path` is deprecated. Please use `name` instead.\n",
      "/home/rzby/miniforge3/envs/atmo-ann/lib/python3.11/site-packages/xgboost/sklearn.py:1028: UserWarning: [10:57:18] WARNING: /home/conda/feedstock_root/build_artifacts/xgboost-split_1748293041487/work/src/c_api/c_api.cc:1427: Saving model in the UBJSON format as default.  You can use file extension: `json`, `ubj` or `deprecated` to choose between formats.\n",
      "  self.get_booster().save_model(fname)\n",
      "\u001b[31m2025/06/22 10:57:20 WARNING mlflow.models.model: Model logged without a signature and input example. Please set `input_example` parameter when logging the model to auto infer the model signature.\u001b[0m\n"
     ]
    },
    {
     "name": "stdout",
     "output_type": "stream",
     "text": [
      "[I 2025-06-22 10:57:20,633] Trial 16 finished with value: 0.4462590668910786 and parameters: {'n_estimators': 732, 'max_depth': 4, 'learning_rate': 0.023900285701290217, 'subsample': 0.8680077929723202, 'colsample_bytree': 0.822332573073582}. Best is trial 14 with value: 0.39086946679819357.\n"
     ]
    },
    {
     "name": "stderr",
     "output_type": "stream",
     "text": [
      "2025/06/22 10:57:22 WARNING mlflow.models.model: `artifact_path` is deprecated. Please use `name` instead.\n",
      "/home/rzby/miniforge3/envs/atmo-ann/lib/python3.11/site-packages/xgboost/sklearn.py:1028: UserWarning: [10:57:22] WARNING: /home/conda/feedstock_root/build_artifacts/xgboost-split_1748293041487/work/src/c_api/c_api.cc:1427: Saving model in the UBJSON format as default.  You can use file extension: `json`, `ubj` or `deprecated` to choose between formats.\n",
      "  self.get_booster().save_model(fname)\n",
      "\u001b[31m2025/06/22 10:57:24 WARNING mlflow.models.model: Model logged without a signature and input example. Please set `input_example` parameter when logging the model to auto infer the model signature.\u001b[0m\n"
     ]
    },
    {
     "name": "stdout",
     "output_type": "stream",
     "text": [
      "[I 2025-06-22 10:57:24,198] Trial 17 finished with value: 0.5138527209655697 and parameters: {'n_estimators': 1041, 'max_depth': 3, 'learning_rate': 0.2944599207063971, 'subsample': 0.7343797438620777, 'colsample_bytree': 0.6383643955571096}. Best is trial 14 with value: 0.39086946679819357.\n"
     ]
    },
    {
     "name": "stderr",
     "output_type": "stream",
     "text": [
      "2025/06/22 10:57:26 WARNING mlflow.models.model: `artifact_path` is deprecated. Please use `name` instead.\n",
      "/home/rzby/miniforge3/envs/atmo-ann/lib/python3.11/site-packages/xgboost/sklearn.py:1028: UserWarning: [10:57:26] WARNING: /home/conda/feedstock_root/build_artifacts/xgboost-split_1748293041487/work/src/c_api/c_api.cc:1427: Saving model in the UBJSON format as default.  You can use file extension: `json`, `ubj` or `deprecated` to choose between formats.\n",
      "  self.get_booster().save_model(fname)\n",
      "\u001b[31m2025/06/22 10:57:28 WARNING mlflow.models.model: Model logged without a signature and input example. Please set `input_example` parameter when logging the model to auto infer the model signature.\u001b[0m\n"
     ]
    },
    {
     "name": "stdout",
     "output_type": "stream",
     "text": [
      "[I 2025-06-22 10:57:28,507] Trial 18 finished with value: 0.40306961273122166 and parameters: {'n_estimators': 788, 'max_depth': 5, 'learning_rate': 0.011637493303562552, 'subsample': 0.6571210209956233, 'colsample_bytree': 0.9522617371199598}. Best is trial 14 with value: 0.39086946679819357.\n"
     ]
    },
    {
     "name": "stderr",
     "output_type": "stream",
     "text": [
      "2025/06/22 10:57:30 WARNING mlflow.models.model: `artifact_path` is deprecated. Please use `name` instead.\n",
      "/home/rzby/miniforge3/envs/atmo-ann/lib/python3.11/site-packages/xgboost/sklearn.py:1028: UserWarning: [10:57:30] WARNING: /home/conda/feedstock_root/build_artifacts/xgboost-split_1748293041487/work/src/c_api/c_api.cc:1427: Saving model in the UBJSON format as default.  You can use file extension: `json`, `ubj` or `deprecated` to choose between formats.\n",
      "  self.get_booster().save_model(fname)\n",
      "\u001b[31m2025/06/22 10:57:32 WARNING mlflow.models.model: Model logged without a signature and input example. Please set `input_example` parameter when logging the model to auto infer the model signature.\u001b[0m\n"
     ]
    },
    {
     "name": "stdout",
     "output_type": "stream",
     "text": [
      "[I 2025-06-22 10:57:32,855] Trial 19 finished with value: 0.4540556340601219 and parameters: {'n_estimators': 828, 'max_depth': 5, 'learning_rate': 0.010687050639360294, 'subsample': 0.6200452762198974, 'colsample_bytree': 0.8440676724410281}. Best is trial 14 with value: 0.39086946679819357.\n"
     ]
    },
    {
     "name": "stderr",
     "output_type": "stream",
     "text": [
      "2025/06/22 10:57:35 WARNING mlflow.models.model: `artifact_path` is deprecated. Please use `name` instead.\n",
      "/home/rzby/miniforge3/envs/atmo-ann/lib/python3.11/site-packages/xgboost/sklearn.py:1028: UserWarning: [10:57:35] WARNING: /home/conda/feedstock_root/build_artifacts/xgboost-split_1748293041487/work/src/c_api/c_api.cc:1427: Saving model in the UBJSON format as default.  You can use file extension: `json`, `ubj` or `deprecated` to choose between formats.\n",
      "  self.get_booster().save_model(fname)\n",
      "\u001b[31m2025/06/22 10:57:37 WARNING mlflow.models.model: Model logged without a signature and input example. Please set `input_example` parameter when logging the model to auto infer the model signature.\u001b[0m\n"
     ]
    },
    {
     "name": "stdout",
     "output_type": "stream",
     "text": [
      "[I 2025-06-22 10:57:37,555] Trial 20 finished with value: 0.40258563168251355 and parameters: {'n_estimators': 1023, 'max_depth': 5, 'learning_rate': 0.012023612090084788, 'subsample': 0.6642279938853802, 'colsample_bytree': 0.9119081133221274}. Best is trial 14 with value: 0.39086946679819357.\n"
     ]
    },
    {
     "name": "stderr",
     "output_type": "stream",
     "text": [
      "2025/06/22 10:57:40 WARNING mlflow.models.model: `artifact_path` is deprecated. Please use `name` instead.\n",
      "/home/rzby/miniforge3/envs/atmo-ann/lib/python3.11/site-packages/xgboost/sklearn.py:1028: UserWarning: [10:57:40] WARNING: /home/conda/feedstock_root/build_artifacts/xgboost-split_1748293041487/work/src/c_api/c_api.cc:1427: Saving model in the UBJSON format as default.  You can use file extension: `json`, `ubj` or `deprecated` to choose between formats.\n",
      "  self.get_booster().save_model(fname)\n",
      "\u001b[31m2025/06/22 10:57:42 WARNING mlflow.models.model: Model logged without a signature and input example. Please set `input_example` parameter when logging the model to auto infer the model signature.\u001b[0m\n"
     ]
    },
    {
     "name": "stdout",
     "output_type": "stream",
     "text": [
      "[I 2025-06-22 10:57:42,778] Trial 21 finished with value: 0.4011040643772691 and parameters: {'n_estimators': 1108, 'max_depth': 5, 'learning_rate': 0.010629631447133164, 'subsample': 0.6662804481292215, 'colsample_bytree': 0.9143278636994953}. Best is trial 14 with value: 0.39086946679819357.\n"
     ]
    },
    {
     "name": "stderr",
     "output_type": "stream",
     "text": [
      "2025/06/22 10:57:45 WARNING mlflow.models.model: `artifact_path` is deprecated. Please use `name` instead.\n",
      "/home/rzby/miniforge3/envs/atmo-ann/lib/python3.11/site-packages/xgboost/sklearn.py:1028: UserWarning: [10:57:45] WARNING: /home/conda/feedstock_root/build_artifacts/xgboost-split_1748293041487/work/src/c_api/c_api.cc:1427: Saving model in the UBJSON format as default.  You can use file extension: `json`, `ubj` or `deprecated` to choose between formats.\n",
      "  self.get_booster().save_model(fname)\n",
      "\u001b[31m2025/06/22 10:57:47 WARNING mlflow.models.model: Model logged without a signature and input example. Please set `input_example` parameter when logging the model to auto infer the model signature.\u001b[0m\n"
     ]
    },
    {
     "name": "stdout",
     "output_type": "stream",
     "text": [
      "[I 2025-06-22 10:57:47,985] Trial 22 finished with value: 0.3913716449906353 and parameters: {'n_estimators': 1199, 'max_depth': 5, 'learning_rate': 0.02056825189036669, 'subsample': 0.6685520613976952, 'colsample_bytree': 0.896824566039939}. Best is trial 14 with value: 0.39086946679819357.\n"
     ]
    },
    {
     "name": "stderr",
     "output_type": "stream",
     "text": [
      "2025/06/22 10:57:52 WARNING mlflow.models.model: `artifact_path` is deprecated. Please use `name` instead.\n",
      "/home/rzby/miniforge3/envs/atmo-ann/lib/python3.11/site-packages/xgboost/sklearn.py:1028: UserWarning: [10:57:52] WARNING: /home/conda/feedstock_root/build_artifacts/xgboost-split_1748293041487/work/src/c_api/c_api.cc:1427: Saving model in the UBJSON format as default.  You can use file extension: `json`, `ubj` or `deprecated` to choose between formats.\n",
      "  self.get_booster().save_model(fname)\n",
      "\u001b[31m2025/06/22 10:57:54 WARNING mlflow.models.model: Model logged without a signature and input example. Please set `input_example` parameter when logging the model to auto infer the model signature.\u001b[0m\n"
     ]
    },
    {
     "name": "stdout",
     "output_type": "stream",
     "text": [
      "[I 2025-06-22 10:57:54,826] Trial 23 finished with value: 0.3950581677828285 and parameters: {'n_estimators': 1197, 'max_depth': 6, 'learning_rate': 0.022755421079710625, 'subsample': 0.6986614381201202, 'colsample_bytree': 0.8966590770117346}. Best is trial 14 with value: 0.39086946679819357.\n"
     ]
    },
    {
     "name": "stderr",
     "output_type": "stream",
     "text": [
      "2025/06/22 10:57:59 WARNING mlflow.models.model: `artifact_path` is deprecated. Please use `name` instead.\n",
      "/home/rzby/miniforge3/envs/atmo-ann/lib/python3.11/site-packages/xgboost/sklearn.py:1028: UserWarning: [10:57:59] WARNING: /home/conda/feedstock_root/build_artifacts/xgboost-split_1748293041487/work/src/c_api/c_api.cc:1427: Saving model in the UBJSON format as default.  You can use file extension: `json`, `ubj` or `deprecated` to choose between formats.\n",
      "  self.get_booster().save_model(fname)\n",
      "\u001b[31m2025/06/22 10:58:01 WARNING mlflow.models.model: Model logged without a signature and input example. Please set `input_example` parameter when logging the model to auto infer the model signature.\u001b[0m\n"
     ]
    },
    {
     "name": "stdout",
     "output_type": "stream",
     "text": [
      "[I 2025-06-22 10:58:01,619] Trial 24 finished with value: 0.4007285852545106 and parameters: {'n_estimators': 1181, 'max_depth': 6, 'learning_rate': 0.051196976220960824, 'subsample': 0.7134611537295052, 'colsample_bytree': 0.9584093098329443}. Best is trial 14 with value: 0.39086946679819357.\n"
     ]
    },
    {
     "name": "stderr",
     "output_type": "stream",
     "text": [
      "2025/06/22 10:58:05 WARNING mlflow.models.model: `artifact_path` is deprecated. Please use `name` instead.\n",
      "/home/rzby/miniforge3/envs/atmo-ann/lib/python3.11/site-packages/xgboost/sklearn.py:1028: UserWarning: [10:58:05] WARNING: /home/conda/feedstock_root/build_artifacts/xgboost-split_1748293041487/work/src/c_api/c_api.cc:1427: Saving model in the UBJSON format as default.  You can use file extension: `json`, `ubj` or `deprecated` to choose between formats.\n",
      "  self.get_booster().save_model(fname)\n",
      "\u001b[31m2025/06/22 10:58:07 WARNING mlflow.models.model: Model logged without a signature and input example. Please set `input_example` parameter when logging the model to auto infer the model signature.\u001b[0m\n"
     ]
    },
    {
     "name": "stdout",
     "output_type": "stream",
     "text": [
      "[I 2025-06-22 10:58:07,919] Trial 25 finished with value: 0.39513436502425264 and parameters: {'n_estimators': 1074, 'max_depth': 6, 'learning_rate': 0.022278989025148115, 'subsample': 0.6928259371776722, 'colsample_bytree': 0.8916583808516125}. Best is trial 14 with value: 0.39086946679819357.\n"
     ]
    },
    {
     "name": "stderr",
     "output_type": "stream",
     "text": [
      "2025/06/22 10:58:09 WARNING mlflow.models.model: `artifact_path` is deprecated. Please use `name` instead.\n",
      "/home/rzby/miniforge3/envs/atmo-ann/lib/python3.11/site-packages/xgboost/sklearn.py:1028: UserWarning: [10:58:09] WARNING: /home/conda/feedstock_root/build_artifacts/xgboost-split_1748293041487/work/src/c_api/c_api.cc:1427: Saving model in the UBJSON format as default.  You can use file extension: `json`, `ubj` or `deprecated` to choose between formats.\n",
      "  self.get_booster().save_model(fname)\n",
      "\u001b[31m2025/06/22 10:58:12 WARNING mlflow.models.model: Model logged without a signature and input example. Please set `input_example` parameter when logging the model to auto infer the model signature.\u001b[0m\n"
     ]
    },
    {
     "name": "stdout",
     "output_type": "stream",
     "text": [
      "[I 2025-06-22 10:58:12,072] Trial 26 finished with value: 0.41663848440806656 and parameters: {'n_estimators': 1193, 'max_depth': 4, 'learning_rate': 0.04631840461848207, 'subsample': 0.7305345232767961, 'colsample_bytree': 0.840502984200736}. Best is trial 14 with value: 0.39086946679819357.\n"
     ]
    },
    {
     "name": "stderr",
     "output_type": "stream",
     "text": [
      "2025/06/22 10:58:16 WARNING mlflow.models.model: `artifact_path` is deprecated. Please use `name` instead.\n",
      "/home/rzby/miniforge3/envs/atmo-ann/lib/python3.11/site-packages/xgboost/sklearn.py:1028: UserWarning: [10:58:16] WARNING: /home/conda/feedstock_root/build_artifacts/xgboost-split_1748293041487/work/src/c_api/c_api.cc:1427: Saving model in the UBJSON format as default.  You can use file extension: `json`, `ubj` or `deprecated` to choose between formats.\n",
      "  self.get_booster().save_model(fname)\n",
      "\u001b[31m2025/06/22 10:58:18 WARNING mlflow.models.model: Model logged without a signature and input example. Please set `input_example` parameter when logging the model to auto infer the model signature.\u001b[0m\n"
     ]
    },
    {
     "name": "stdout",
     "output_type": "stream",
     "text": [
      "[I 2025-06-22 10:58:18,164] Trial 27 finished with value: 0.4432376419186213 and parameters: {'n_estimators': 977, 'max_depth': 6, 'learning_rate': 0.019551003988746617, 'subsample': 0.8174802506603858, 'colsample_bytree': 0.7002258191772011}. Best is trial 14 with value: 0.39086946679819357.\n"
     ]
    },
    {
     "name": "stderr",
     "output_type": "stream",
     "text": [
      "2025/06/22 10:58:19 WARNING mlflow.models.model: `artifact_path` is deprecated. Please use `name` instead.\n",
      "/home/rzby/miniforge3/envs/atmo-ann/lib/python3.11/site-packages/xgboost/sklearn.py:1028: UserWarning: [10:58:19] WARNING: /home/conda/feedstock_root/build_artifacts/xgboost-split_1748293041487/work/src/c_api/c_api.cc:1427: Saving model in the UBJSON format as default.  You can use file extension: `json`, `ubj` or `deprecated` to choose between formats.\n",
      "  self.get_booster().save_model(fname)\n",
      "\u001b[31m2025/06/22 10:58:21 WARNING mlflow.models.model: Model logged without a signature and input example. Please set `input_example` parameter when logging the model to auto infer the model signature.\u001b[0m\n"
     ]
    },
    {
     "name": "stdout",
     "output_type": "stream",
     "text": [
      "[I 2025-06-22 10:58:21,502] Trial 28 finished with value: 0.41127037768441416 and parameters: {'n_estimators': 636, 'max_depth': 4, 'learning_rate': 0.027545490355894587, 'subsample': 0.6387254595795352, 'colsample_bytree': 0.9632284832137967}. Best is trial 14 with value: 0.39086946679819357.\n"
     ]
    },
    {
     "name": "stderr",
     "output_type": "stream",
     "text": [
      "2025/06/22 10:58:34 WARNING mlflow.models.model: `artifact_path` is deprecated. Please use `name` instead.\n",
      "/home/rzby/miniforge3/envs/atmo-ann/lib/python3.11/site-packages/xgboost/sklearn.py:1028: UserWarning: [10:58:34] WARNING: /home/conda/feedstock_root/build_artifacts/xgboost-split_1748293041487/work/src/c_api/c_api.cc:1427: Saving model in the UBJSON format as default.  You can use file extension: `json`, `ubj` or `deprecated` to choose between formats.\n",
      "  self.get_booster().save_model(fname)\n",
      "\u001b[31m2025/06/22 10:58:36 WARNING mlflow.models.model: Model logged without a signature and input example. Please set `input_example` parameter when logging the model to auto infer the model signature.\u001b[0m\n"
     ]
    },
    {
     "name": "stdout",
     "output_type": "stream",
     "text": [
      "[I 2025-06-22 10:58:36,289] Trial 29 finished with value: 0.613471238630994 and parameters: {'n_estimators': 1140, 'max_depth': 8, 'learning_rate': 0.06789800173536216, 'subsample': 0.7461948975643261, 'colsample_bytree': 0.7748332111511392}. Best is trial 14 with value: 0.39086946679819357.\n"
     ]
    },
    {
     "name": "stderr",
     "output_type": "stream",
     "text": [
      "2025/06/22 10:58:37 WARNING mlflow.models.model: `artifact_path` is deprecated. Please use `name` instead.\n",
      "/home/rzby/miniforge3/envs/atmo-ann/lib/python3.11/site-packages/xgboost/sklearn.py:1028: UserWarning: [10:58:37] WARNING: /home/conda/feedstock_root/build_artifacts/xgboost-split_1748293041487/work/src/c_api/c_api.cc:1427: Saving model in the UBJSON format as default.  You can use file extension: `json`, `ubj` or `deprecated` to choose between formats.\n",
      "  self.get_booster().save_model(fname)\n",
      "\u001b[31m2025/06/22 10:58:39 WARNING mlflow.models.model: Model logged without a signature and input example. Please set `input_example` parameter when logging the model to auto infer the model signature.\u001b[0m\n"
     ]
    },
    {
     "name": "stdout",
     "output_type": "stream",
     "text": [
      "[I 2025-06-22 10:58:39,711] Trial 30 finished with value: 0.46352977674451645 and parameters: {'n_estimators': 467, 'max_depth': 5, 'learning_rate': 0.014739593144713271, 'subsample': 0.6003305439969292, 'colsample_bytree': 0.8497074368246171}. Best is trial 14 with value: 0.39086946679819357.\n"
     ]
    },
    {
     "name": "stderr",
     "output_type": "stream",
     "text": [
      "2025/06/22 10:58:44 WARNING mlflow.models.model: `artifact_path` is deprecated. Please use `name` instead.\n",
      "/home/rzby/miniforge3/envs/atmo-ann/lib/python3.11/site-packages/xgboost/sklearn.py:1028: UserWarning: [10:58:44] WARNING: /home/conda/feedstock_root/build_artifacts/xgboost-split_1748293041487/work/src/c_api/c_api.cc:1427: Saving model in the UBJSON format as default.  You can use file extension: `json`, `ubj` or `deprecated` to choose between formats.\n",
      "  self.get_booster().save_model(fname)\n",
      "\u001b[31m2025/06/22 10:58:46 WARNING mlflow.models.model: Model logged without a signature and input example. Please set `input_example` parameter when logging the model to auto infer the model signature.\u001b[0m\n"
     ]
    },
    {
     "name": "stdout",
     "output_type": "stream",
     "text": [
      "[I 2025-06-22 10:58:46,419] Trial 31 finished with value: 0.3982714396317558 and parameters: {'n_estimators': 1093, 'max_depth': 6, 'learning_rate': 0.024346856083785694, 'subsample': 0.6921126071010872, 'colsample_bytree': 0.8911709708552925}. Best is trial 14 with value: 0.39086946679819357.\n"
     ]
    },
    {
     "name": "stderr",
     "output_type": "stream",
     "text": [
      "2025/06/22 10:58:50 WARNING mlflow.models.model: `artifact_path` is deprecated. Please use `name` instead.\n",
      "/home/rzby/miniforge3/envs/atmo-ann/lib/python3.11/site-packages/xgboost/sklearn.py:1028: UserWarning: [10:58:50] WARNING: /home/conda/feedstock_root/build_artifacts/xgboost-split_1748293041487/work/src/c_api/c_api.cc:1427: Saving model in the UBJSON format as default.  You can use file extension: `json`, `ubj` or `deprecated` to choose between formats.\n",
      "  self.get_booster().save_model(fname)\n",
      "\u001b[31m2025/06/22 10:58:53 WARNING mlflow.models.model: Model logged without a signature and input example. Please set `input_example` parameter when logging the model to auto infer the model signature.\u001b[0m\n"
     ]
    },
    {
     "name": "stdout",
     "output_type": "stream",
     "text": [
      "[I 2025-06-22 10:58:53,097] Trial 32 finished with value: 0.3968785977864357 and parameters: {'n_estimators': 1058, 'max_depth': 6, 'learning_rate': 0.01904171365818697, 'subsample': 0.6895827119074555, 'colsample_bytree': 0.900526242337446}. Best is trial 14 with value: 0.39086946679819357.\n"
     ]
    },
    {
     "name": "stderr",
     "output_type": "stream",
     "text": [
      "2025/06/22 10:58:56 WARNING mlflow.models.model: `artifact_path` is deprecated. Please use `name` instead.\n",
      "/home/rzby/miniforge3/envs/atmo-ann/lib/python3.11/site-packages/xgboost/sklearn.py:1028: UserWarning: [10:58:56] WARNING: /home/conda/feedstock_root/build_artifacts/xgboost-split_1748293041487/work/src/c_api/c_api.cc:1427: Saving model in the UBJSON format as default.  You can use file extension: `json`, `ubj` or `deprecated` to choose between formats.\n",
      "  self.get_booster().save_model(fname)\n",
      "\u001b[31m2025/06/22 10:58:58 WARNING mlflow.models.model: Model logged without a signature and input example. Please set `input_example` parameter when logging the model to auto infer the model signature.\u001b[0m\n"
     ]
    },
    {
     "name": "stdout",
     "output_type": "stream",
     "text": [
      "[I 2025-06-22 10:58:58,413] Trial 33 finished with value: 0.3974457513747399 and parameters: {'n_estimators': 1152, 'max_depth': 5, 'learning_rate': 0.022097168110477634, 'subsample': 0.7183965159467522, 'colsample_bytree': 0.8660040610049266}. Best is trial 14 with value: 0.39086946679819357.\n"
     ]
    },
    {
     "name": "stderr",
     "output_type": "stream",
     "text": [
      "2025/06/22 10:58:59 WARNING mlflow.models.model: `artifact_path` is deprecated. Please use `name` instead.\n",
      "/home/rzby/miniforge3/envs/atmo-ann/lib/python3.11/site-packages/xgboost/sklearn.py:1028: UserWarning: [10:58:59] WARNING: /home/conda/feedstock_root/build_artifacts/xgboost-split_1748293041487/work/src/c_api/c_api.cc:1427: Saving model in the UBJSON format as default.  You can use file extension: `json`, `ubj` or `deprecated` to choose between formats.\n",
      "  self.get_booster().save_model(fname)\n",
      "\u001b[31m2025/06/22 10:59:01 WARNING mlflow.models.model: Model logged without a signature and input example. Please set `input_example` parameter when logging the model to auto infer the model signature.\u001b[0m\n"
     ]
    },
    {
     "name": "stdout",
     "output_type": "stream",
     "text": [
      "[I 2025-06-22 10:59:01,967] Trial 34 finished with value: 0.44028619566804716 and parameters: {'n_estimators': 1200, 'max_depth': 3, 'learning_rate': 0.015719192973844283, 'subsample': 0.6838632671774697, 'colsample_bytree': 0.9581342967461797}. Best is trial 14 with value: 0.39086946679819357.\n"
     ]
    },
    {
     "name": "stderr",
     "output_type": "stream",
     "text": [
      "2025/06/22 10:59:05 WARNING mlflow.models.model: `artifact_path` is deprecated. Please use `name` instead.\n",
      "/home/rzby/miniforge3/envs/atmo-ann/lib/python3.11/site-packages/xgboost/sklearn.py:1028: UserWarning: [10:59:05] WARNING: /home/conda/feedstock_root/build_artifacts/xgboost-split_1748293041487/work/src/c_api/c_api.cc:1427: Saving model in the UBJSON format as default.  You can use file extension: `json`, `ubj` or `deprecated` to choose between formats.\n",
      "  self.get_booster().save_model(fname)\n",
      "\u001b[31m2025/06/22 10:59:08 WARNING mlflow.models.model: Model logged without a signature and input example. Please set `input_example` parameter when logging the model to auto infer the model signature.\u001b[0m\n"
     ]
    },
    {
     "name": "stdout",
     "output_type": "stream",
     "text": [
      "[I 2025-06-22 10:59:08,204] Trial 35 finished with value: 0.43170482946729705 and parameters: {'n_estimators': 977, 'max_depth': 6, 'learning_rate': 0.03024033233017062, 'subsample': 0.7586814735431963, 'colsample_bytree': 0.7963615633277996}. Best is trial 14 with value: 0.39086946679819357.\n"
     ]
    },
    {
     "name": "stderr",
     "output_type": "stream",
     "text": [
      "2025/06/22 10:59:15 WARNING mlflow.models.model: `artifact_path` is deprecated. Please use `name` instead.\n",
      "/home/rzby/miniforge3/envs/atmo-ann/lib/python3.11/site-packages/xgboost/sklearn.py:1028: UserWarning: [10:59:15] WARNING: /home/conda/feedstock_root/build_artifacts/xgboost-split_1748293041487/work/src/c_api/c_api.cc:1427: Saving model in the UBJSON format as default.  You can use file extension: `json`, `ubj` or `deprecated` to choose between formats.\n",
      "  self.get_booster().save_model(fname)\n",
      "\u001b[31m2025/06/22 10:59:17 WARNING mlflow.models.model: Model logged without a signature and input example. Please set `input_example` parameter when logging the model to auto infer the model signature.\u001b[0m\n"
     ]
    },
    {
     "name": "stdout",
     "output_type": "stream",
     "text": [
      "[I 2025-06-22 10:59:17,950] Trial 36 finished with value: 0.4856922260356016 and parameters: {'n_estimators': 1101, 'max_depth': 7, 'learning_rate': 0.08875888442703672, 'subsample': 0.7057138237457051, 'colsample_bytree': 0.8644047026990125}. Best is trial 14 with value: 0.39086946679819357.\n"
     ]
    },
    {
     "name": "stderr",
     "output_type": "stream",
     "text": [
      "2025/06/22 10:59:41 WARNING mlflow.models.model: `artifact_path` is deprecated. Please use `name` instead.\n",
      "/home/rzby/miniforge3/envs/atmo-ann/lib/python3.11/site-packages/xgboost/sklearn.py:1028: UserWarning: [10:59:41] WARNING: /home/conda/feedstock_root/build_artifacts/xgboost-split_1748293041487/work/src/c_api/c_api.cc:1427: Saving model in the UBJSON format as default.  You can use file extension: `json`, `ubj` or `deprecated` to choose between formats.\n",
      "  self.get_booster().save_model(fname)\n",
      "\u001b[31m2025/06/22 10:59:43 WARNING mlflow.models.model: Model logged without a signature and input example. Please set `input_example` parameter when logging the model to auto infer the model signature.\u001b[0m\n"
     ]
    },
    {
     "name": "stdout",
     "output_type": "stream",
     "text": [
      "[I 2025-06-22 10:59:43,716] Trial 37 finished with value: 0.5566527080965179 and parameters: {'n_estimators': 851, 'max_depth': 10, 'learning_rate': 0.044722257266827145, 'subsample': 0.650040321230466, 'colsample_bytree': 0.89671750067093}. Best is trial 14 with value: 0.39086946679819357.\n"
     ]
    },
    {
     "name": "stderr",
     "output_type": "stream",
     "text": [
      "2025/06/22 10:59:48 WARNING mlflow.models.model: `artifact_path` is deprecated. Please use `name` instead.\n",
      "/home/rzby/miniforge3/envs/atmo-ann/lib/python3.11/site-packages/xgboost/sklearn.py:1028: UserWarning: [10:59:48] WARNING: /home/conda/feedstock_root/build_artifacts/xgboost-split_1748293041487/work/src/c_api/c_api.cc:1427: Saving model in the UBJSON format as default.  You can use file extension: `json`, `ubj` or `deprecated` to choose between formats.\n",
      "  self.get_booster().save_model(fname)\n",
      "\u001b[31m2025/06/22 10:59:50 WARNING mlflow.models.model: Model logged without a signature and input example. Please set `input_example` parameter when logging the model to auto infer the model signature.\u001b[0m\n"
     ]
    },
    {
     "name": "stdout",
     "output_type": "stream",
     "text": [
      "[I 2025-06-22 10:59:50,592] Trial 38 finished with value: 0.4213552754993032 and parameters: {'n_estimators': 1144, 'max_depth': 6, 'learning_rate': 0.020146949466170894, 'subsample': 0.6804123938470519, 'colsample_bytree': 0.8210915642434258}. Best is trial 14 with value: 0.39086946679819357.\n"
     ]
    },
    {
     "name": "stderr",
     "output_type": "stream",
     "text": [
      "2025/06/22 10:59:52 WARNING mlflow.models.model: `artifact_path` is deprecated. Please use `name` instead.\n",
      "/home/rzby/miniforge3/envs/atmo-ann/lib/python3.11/site-packages/xgboost/sklearn.py:1028: UserWarning: [10:59:52] WARNING: /home/conda/feedstock_root/build_artifacts/xgboost-split_1748293041487/work/src/c_api/c_api.cc:1427: Saving model in the UBJSON format as default.  You can use file extension: `json`, `ubj` or `deprecated` to choose between formats.\n",
      "  self.get_booster().save_model(fname)\n",
      "\u001b[31m2025/06/22 10:59:54 WARNING mlflow.models.model: Model logged without a signature and input example. Please set `input_example` parameter when logging the model to auto infer the model signature.\u001b[0m\n"
     ]
    },
    {
     "name": "stdout",
     "output_type": "stream",
     "text": [
      "[I 2025-06-22 10:59:54,239] Trial 39 finished with value: 0.39346980817920835 and parameters: {'n_estimators': 920, 'max_depth': 4, 'learning_rate': 0.056033475659544814, 'subsample': 0.9880709110323536, 'colsample_bytree': 0.9360306823710991}. Best is trial 14 with value: 0.39086946679819357.\n",
      "Best RMSE: 0.39086946679819357\n"
     ]
    }
   ],
   "source": [
    "### Optuna + MLflow tuning – find best XGBoost hyper-params\n",
    "mlflow.set_tracking_uri(\"file:./mlruns\")\n",
    "mlflow.set_experiment(\"ffmc_xgb\")\n",
    "\n",
    "def objective(trial):\n",
    "    params = {\n",
    "        \"n_estimators\"     : trial.suggest_int(\"n_estimators\", 300, 1200),\n",
    "        \"max_depth\"        : trial.suggest_int(\"max_depth\", 3, 10),\n",
    "        \"learning_rate\"    : trial.suggest_float(\"learning_rate\", 0.01, 0.3, log=True),\n",
    "        \"subsample\"        : trial.suggest_float(\"subsample\", 0.6, 1.0),\n",
    "        \"colsample_bytree\" : trial.suggest_float(\"colsample_bytree\", 0.6, 1.0),\n",
    "        \"random_state\"     : 42,\n",
    "        \"n_jobs\"           : -1,\n",
    "    }\n",
    "    model = xgb.XGBRegressor(**params)\n",
    "    model.fit(X_train, y_train)\n",
    "    pred = model.predict(X_test)\n",
    "    rmse = np.sqrt(mean_squared_error(y_test, pred))\n",
    "\n",
    "    with mlflow.start_run():\n",
    "        mlflow.log_params(params)\n",
    "        mlflow.log_metric(\"rmse\", rmse)\n",
    "        mlflow.xgboost.log_model(model, \"model\")\n",
    "    return rmse\n",
    "\n",
    "study = optuna.create_study(direction=\"minimize\")\n",
    "study.optimize(objective, n_trials=40, show_progress_bar=True)\n",
    "\n",
    "best_rmse = study.best_value\n",
    "print(\"Best RMSE:\", best_rmse)\n"
   ]
  },
  {
   "cell_type": "code",
   "execution_count": 10,
   "id": "80248490",
   "metadata": {},
   "outputs": [
    {
     "data": {
      "application/vnd.jupyter.widget-view+json": {
       "model_id": "1a02f420c2114b3aa57ec5890fa94228",
       "version_major": 2,
       "version_minor": 0
      },
      "text/plain": [
       "Downloading artifacts:   0%|          | 0/1 [00:00<?, ?it/s]"
      ]
     },
     "metadata": {},
     "output_type": "display_data"
    },
    {
     "data": {
      "application/vnd.jupyter.widget-view+json": {
       "model_id": "3835a27d040c4fff8f4ad4752ba38f76",
       "version_major": 2,
       "version_minor": 0
      },
      "text/plain": [
       "Downloading artifacts:   0%|          | 0/5 [00:00<?, ?it/s]"
      ]
     },
     "metadata": {},
     "output_type": "display_data"
    },
    {
     "name": "stdout",
     "output_type": "stream",
     "text": [
      "=== Overall test metrics ===\n",
      "RMSE:  0.248\n",
      "MAE :  0.179\n",
      "R2  :  0.999\n"
     ]
    },
    {
     "name": "stderr",
     "output_type": "stream",
     "text": [
      "/tmp/ipykernel_7263/4069279142.py:19: DeprecationWarning: DataFrameGroupBy.apply operated on the grouping columns. This behavior is deprecated, and in a future version of pandas the grouping columns will be excluded from the operation. Either pass `include_groups=False` to exclude the groupings or explicitly select the grouping columns after groupby to silence this warning.\n",
      "  .apply(lambda g: pd.Series({\n"
     ]
    },
    {
     "data": {
      "text/html": [
       "<div>\n",
       "<style scoped>\n",
       "    .dataframe tbody tr th:only-of-type {\n",
       "        vertical-align: middle;\n",
       "    }\n",
       "\n",
       "    .dataframe tbody tr th {\n",
       "        vertical-align: top;\n",
       "    }\n",
       "\n",
       "    .dataframe thead th {\n",
       "        text-align: right;\n",
       "    }\n",
       "</style>\n",
       "<table border=\"1\" class=\"dataframe\">\n",
       "  <thead>\n",
       "    <tr style=\"text-align: right;\">\n",
       "      <th></th>\n",
       "      <th>RMSE</th>\n",
       "      <th>MAE</th>\n",
       "      <th>R2</th>\n",
       "    </tr>\n",
       "    <tr>\n",
       "      <th>station_id</th>\n",
       "      <th></th>\n",
       "      <th></th>\n",
       "      <th></th>\n",
       "    </tr>\n",
       "  </thead>\n",
       "  <tbody>\n",
       "    <tr>\n",
       "      <th>96595</th>\n",
       "      <td>0.209964</td>\n",
       "      <td>0.163368</td>\n",
       "      <td>0.999590</td>\n",
       "    </tr>\n",
       "    <tr>\n",
       "      <th>96645</th>\n",
       "      <td>0.369366</td>\n",
       "      <td>0.271962</td>\n",
       "      <td>0.998253</td>\n",
       "    </tr>\n",
       "    <tr>\n",
       "      <th>96651</th>\n",
       "      <td>0.233425</td>\n",
       "      <td>0.175150</td>\n",
       "      <td>0.999200</td>\n",
       "    </tr>\n",
       "    <tr>\n",
       "      <th>96653</th>\n",
       "      <td>0.189476</td>\n",
       "      <td>0.141887</td>\n",
       "      <td>0.999471</td>\n",
       "    </tr>\n",
       "    <tr>\n",
       "      <th>96655</th>\n",
       "      <td>0.195548</td>\n",
       "      <td>0.143170</td>\n",
       "      <td>0.999341</td>\n",
       "    </tr>\n",
       "  </tbody>\n",
       "</table>\n",
       "</div>"
      ],
      "text/plain": [
       "                RMSE       MAE        R2\n",
       "station_id                              \n",
       "96595       0.209964  0.163368  0.999590\n",
       "96645       0.369366  0.271962  0.998253\n",
       "96651       0.233425  0.175150  0.999200\n",
       "96653       0.189476  0.141887  0.999471\n",
       "96655       0.195548  0.143170  0.999341"
      ]
     },
     "execution_count": 10,
     "metadata": {},
     "output_type": "execute_result"
    }
   ],
   "source": [
    "### Retrieve best model & evaluate RQ 1 metrics\n",
    "best_run = mlflow.search_runs(order_by=[\"metrics.rmse\"], max_results=1).iloc[0]\n",
    "model_uri = f\"runs:/{best_run.run_id}/model\"\n",
    "best_model = mlflow.xgboost.load_model(model_uri)\n",
    "\n",
    "test[\"pred\"] = best_model.predict(X_test)\n",
    "\n",
    "overall = {\n",
    "    \"RMSE\": np.sqrt(mean_squared_error(y_test, test[\"pred\"])),\n",
    "    \"MAE\" : mean_absolute_error(y_test, test[\"pred\"]),\n",
    "    \"R2\"  : r2_score(y_test, test[\"pred\"]),\n",
    "}\n",
    "print(\"=== Overall test metrics ===\")\n",
    "for k, v in overall.items():\n",
    "    print(f\"{k:4s}: {v:6.3f}\")\n",
    "\n",
    "per_station = (\n",
    "    test.groupby(\"station_id\")\n",
    "        .apply(lambda g: pd.Series({\n",
    "            \"RMSE\": np.sqrt(mean_squared_error(g[\"ffmc\"], g[\"pred\"])),\n",
    "            \"MAE\" : mean_absolute_error(g[\"ffmc\"], g[\"pred\"]),\n",
    "            \"R2\"  : r2_score(g[\"ffmc\"], g[\"pred\"]),\n",
    "        }))\n",
    "        .sort_index()\n",
    ")\n",
    "per_station\n"
   ]
  },
  {
   "cell_type": "code",
   "execution_count": 11,
   "id": "117591af",
   "metadata": {},
   "outputs": [
    {
     "name": "stderr",
     "output_type": "stream",
     "text": [
      "2025-06-22 11:18:05.566252: I tensorflow/core/platform/cpu_feature_guard.cc:210] This TensorFlow binary is optimized to use available CPU instructions in performance-critical operations.\n",
      "To enable the following instructions: SSE4.1 SSE4.2 AVX AVX2, in other operations, rebuild TensorFlow with the appropriate compiler flags.\n",
      "/home/rzby/miniforge3/envs/atmo-ann/lib/python3.11/site-packages/keras/src/layers/core/dense.py:93: UserWarning: Do not pass an `input_shape`/`input_dim` argument to a layer. When using Sequential models, prefer using an `Input(shape)` object as the first layer in the model instead.\n",
      "  super().__init__(activity_regularizer=activity_regularizer, **kwargs)\n"
     ]
    }
   ],
   "source": [
    "### ⬛ ANN – build, train, predict  (CELL 5-A)\n",
    "\n",
    "from tensorflow import keras\n",
    "from sklearn.preprocessing import StandardScaler\n",
    "\n",
    "# 1. scale predictors\n",
    "scaler_ann = StandardScaler().fit(X_train)\n",
    "Xtr_ann = scaler_ann.transform(X_train)\n",
    "Xte_ann = scaler_ann.transform(X_test)\n",
    "\n",
    "# 2. build model\n",
    "ann = keras.Sequential([\n",
    "    keras.layers.Dense(128, activation=\"relu\", input_shape=(Xtr_ann.shape[1],)),\n",
    "    keras.layers.Dropout(0.2),\n",
    "    keras.layers.Dense(64, activation=\"relu\"),\n",
    "    keras.layers.Dense(1)         # linear output\n",
    "])\n",
    "ann.compile(loss=\"mse\", optimizer=keras.optimizers.Adam(1e-3), metrics=[\"mae\"])\n",
    "\n",
    "# 3. train with early stopping\n",
    "callback = keras.callbacks.EarlyStopping(patience=15, restore_best_weights=True)\n",
    "history = ann.fit(Xtr_ann, y_train,\n",
    "                  validation_split=0.2,\n",
    "                  epochs=300,\n",
    "                  batch_size=128,\n",
    "                  verbose=0,\n",
    "                  callbacks=[callback])\n",
    "\n",
    "# 4. predict\n",
    "test[\"pred_ann\"] = ann.predict(Xte_ann, verbose=0).ravel()\n"
   ]
  },
  {
   "cell_type": "code",
   "execution_count": 12,
   "id": "a6db9f7c",
   "metadata": {},
   "outputs": [
    {
     "name": "stdout",
     "output_type": "stream",
     "text": [
      "Best SVM params: {'svr__C': 100, 'svr__epsilon': 0.2, 'svr__gamma': 0.01}\n"
     ]
    }
   ],
   "source": [
    "### ⬛ SVM (RBF) – scale, tune C & γ quickly, predict  (CELL 5-B)\n",
    "\n",
    "from sklearn.pipeline import make_pipeline\n",
    "from sklearn.preprocessing import StandardScaler\n",
    "from sklearn.svm import SVR\n",
    "from sklearn.model_selection import GridSearchCV\n",
    "\n",
    "pipe = make_pipeline(StandardScaler(), SVR(kernel=\"rbf\"))\n",
    "\n",
    "param_grid = {\n",
    "    \"svr__C\":      [1, 10, 100],\n",
    "    \"svr__gamma\":  [\"scale\", 0.01, 0.1],\n",
    "    \"svr__epsilon\":[0.1, 0.2],\n",
    "}\n",
    "grid = GridSearchCV(pipe, param_grid, cv=3, scoring=\"neg_root_mean_squared_error\", n_jobs=-1)\n",
    "grid.fit(X_train, y_train)\n",
    "\n",
    "print(\"Best SVM params:\", grid.best_params_)\n",
    "test[\"pred_svm\"] = grid.best_estimator_.predict(X_test)\n"
   ]
  },
  {
   "cell_type": "code",
   "execution_count": 13,
   "id": "f0e9e527",
   "metadata": {},
   "outputs": [
    {
     "name": "stdout",
     "output_type": "stream",
     "text": [
      "=== Overall test-set metrics ===\n"
     ]
    },
    {
     "data": {
      "text/html": [
       "<div>\n",
       "<style scoped>\n",
       "    .dataframe tbody tr th:only-of-type {\n",
       "        vertical-align: middle;\n",
       "    }\n",
       "\n",
       "    .dataframe tbody tr th {\n",
       "        vertical-align: top;\n",
       "    }\n",
       "\n",
       "    .dataframe thead th {\n",
       "        text-align: right;\n",
       "    }\n",
       "</style>\n",
       "<table border=\"1\" class=\"dataframe\">\n",
       "  <thead>\n",
       "    <tr style=\"text-align: right;\">\n",
       "      <th></th>\n",
       "      <th>RMSE</th>\n",
       "      <th>MAE</th>\n",
       "      <th>R2</th>\n",
       "    </tr>\n",
       "  </thead>\n",
       "  <tbody>\n",
       "    <tr>\n",
       "      <th>XGB</th>\n",
       "      <td>0.248412</td>\n",
       "      <td>0.178966</td>\n",
       "      <td>0.999206</td>\n",
       "    </tr>\n",
       "    <tr>\n",
       "      <th>ANN</th>\n",
       "      <td>0.699215</td>\n",
       "      <td>0.516312</td>\n",
       "      <td>0.993706</td>\n",
       "    </tr>\n",
       "    <tr>\n",
       "      <th>SVM</th>\n",
       "      <td>2.701973</td>\n",
       "      <td>1.895916</td>\n",
       "      <td>0.906013</td>\n",
       "    </tr>\n",
       "  </tbody>\n",
       "</table>\n",
       "</div>"
      ],
      "text/plain": [
       "         RMSE       MAE        R2\n",
       "XGB  0.248412  0.178966  0.999206\n",
       "ANN  0.699215  0.516312  0.993706\n",
       "SVM  2.701973  1.895916  0.906013"
      ]
     },
     "execution_count": 13,
     "metadata": {},
     "output_type": "execute_result"
    }
   ],
   "source": [
    "### ▶▶ Collect overall & per-station metrics for all three models  (CELL 6 updated)\n",
    "\n",
    "def metric_dict(y_true, y_hat):\n",
    "    return {\n",
    "        \"RMSE\": np.sqrt(mean_squared_error(y_true, y_hat)),\n",
    "        \"MAE\" : mean_absolute_error(y_true, y_hat),\n",
    "        \"R2\"  : r2_score(y_true, y_hat),\n",
    "    }\n",
    "\n",
    "overall = pd.DataFrame({\n",
    "    \"XGB\" : metric_dict(y_test, test[\"pred\"]),\n",
    "    \"ANN\" : metric_dict(y_test, test[\"pred_ann\"]),\n",
    "    \"SVM\" : metric_dict(y_test, test[\"pred_svm\"]),\n",
    "}).T\n",
    "print(\"=== Overall test-set metrics ===\")\n",
    "overall\n"
   ]
  },
  {
   "cell_type": "code",
   "execution_count": 16,
   "id": "addfafaf",
   "metadata": {},
   "outputs": [],
   "source": [
    "test[[\"ffmc\", \"pred\", \"pred_ann\", \"pred_svm\"]].to_csv(Path(\"../reports/output_table.csv\"), index=False)"
   ]
  },
  {
   "cell_type": "code",
   "execution_count": null,
   "id": "4e255931",
   "metadata": {},
   "outputs": [],
   "source": [
    "### Per-station RMSE for each model  (CELL 6-bis)\n",
    "\n",
    "per_station_all = (\n",
    "    test.groupby(\"station_id\")\n",
    "        .apply(lambda g: pd.Series({\n",
    "            \"XGB_RMSE\": np.sqrt(mean_squared_error(g[\"ffmc\"], g[\"pred\"])),\n",
    "            \"ANN_RMSE\": np.sqrt(mean_squared_error(g[\"ffmc\"], g[\"pred_ann\"])),\n",
    "            \"SVM_RMSE\": np.sqrt(mean_squared_error(g[\"ffmc\"], g[\"pred_svm\"])),\n",
    "        }))\n",
    ")\n",
    "per_station_all\n"
   ]
  },
  {
   "cell_type": "code",
   "execution_count": null,
   "id": "2cf2ce33",
   "metadata": {},
   "outputs": [],
   "source": [
    "### Visual 3 – overall RMSE comparison  (CELL 7-bis)\n",
    "\n",
    "overall.RMSE.plot.bar(rot=0, figsize=(4,3))\n",
    "plt.ylabel(\"RMSE\"); plt.title(\"Model comparison – overall RMSE\")\n",
    "plt.tight_layout(); plt.savefig(Path(\"../reports/figures/rmse_comparison.png\"))\n",
    "plt.show()"
   ]
  },
  {
   "cell_type": "code",
   "execution_count": null,
   "id": "374e931f",
   "metadata": {},
   "outputs": [],
   "source": [
    "### Visual 4 – per-station RMSE heatmap  (CELL 8-bis)\n",
    "import seaborn as sns\n",
    "\n",
    "plt.figure(figsize=(6,5))\n",
    "sns.heatmap(per_station_all.filter(like=\"_RMSE\").T,\n",
    "            annot=True, fmt=\".2f\", cmap=\"YlOrRd\")\n",
    "plt.title(\"RMSE by station & model\"); plt.xlabel(\"WMO station\"); plt.ylabel(\"\")\n",
    "plt.tight_layout()\n",
    "plt.savefig(Path(\"../reports/figures/rmse_station_comparison.png\"))\n",
    "plt.show()\n"
   ]
  },
  {
   "cell_type": "code",
   "execution_count": null,
   "id": "c8d9c2c2",
   "metadata": {},
   "outputs": [],
   "source": [
    "### Visual 1 – prediction vs observation scatter (CELL 7)\n",
    "plt.figure(figsize=(5,5))\n",
    "plt.scatter(test[\"ffmc\"], test[\"pred\"], s=10, alpha=0.5)\n",
    "plt.plot([60,100], [60,100], \"k--\")\n",
    "plt.xlabel(\"Observed FFMC\"); plt.ylabel(\"Predicted FFMC\")\n",
    "plt.title(\"Overall test set – XGBoost\")\n",
    "plt.grid(True); plt.tight_layout()\n",
    "plt.savefig(Path(\"../reports/figures/scatter_xgboost.png\"))\n",
    "plt.show()\n"
   ]
  },
  {
   "cell_type": "code",
   "execution_count": null,
   "id": "26665a0e",
   "metadata": {},
   "outputs": [],
   "source": [
    "### RQ 2 – SHAP feature importance  (CELL 9)\n",
    "import shap\n",
    "sample = df.sample(6000, random_state=0)   # speed; adjust if GPU available\n",
    "X_sample = sample[PRED_COLS]\n",
    "\n",
    "explainer = shap.Explainer(best_model)\n",
    "shap_values = explainer(X_sample, check_additivity=False)\n",
    "\n",
    "shap.summary_plot(shap_values, X_sample, show=False)\n",
    "plt.title(\"SHAP summary – key FFMC drivers\")\n",
    "plt.tight_layout()\n",
    "plt.savefig(Path(\"../reports/figures/feature_xgboost.png\"))\n",
    "plt.show()\n"
   ]
  }
 ],
 "metadata": {
  "kernelspec": {
   "display_name": "atmo-ann",
   "language": "python",
   "name": "python3"
  },
  "language_info": {
   "codemirror_mode": {
    "name": "ipython",
    "version": 3
   },
   "file_extension": ".py",
   "mimetype": "text/x-python",
   "name": "python",
   "nbconvert_exporter": "python",
   "pygments_lexer": "ipython3",
   "version": "3.11.12"
  }
 },
 "nbformat": 4,
 "nbformat_minor": 5
}
